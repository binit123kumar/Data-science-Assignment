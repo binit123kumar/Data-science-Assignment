{
 "cells": [
  {
   "cell_type": "markdown",
   "id": "b1901154-4a71-4433-a59b-1cf40617814b",
   "metadata": {},
   "source": [
    "### PYTHON PROGRAMMING ASSIGNMENT"
   ]
  },
  {
   "cell_type": "raw",
   "id": "84ebd1a2-df82-45c3-acae-90f5f06ce570",
   "metadata": {},
   "source": [
    "Write a Python program that checks whether a given number is prime or not. A prime number is a natural number greater than 1 that has no positive divisors other than 1 and itself."
   ]
  },
  {
   "cell_type": "code",
   "execution_count": 1,
   "id": "b7997048-0a78-44d8-84d7-7ec1fd5a1597",
   "metadata": {},
   "outputs": [
    {
     "name": "stdin",
     "output_type": "stream",
     "text": [
      "enter the number 5\n"
     ]
    },
    {
     "name": "stdout",
     "output_type": "stream",
     "text": [
      "number is prime\n"
     ]
    }
   ],
   "source": [
    "# taking the number\n",
    "num = int(input(\"enter the number\"))\n",
    "# check condition \n",
    "if num <= 1:\n",
    "    # If the number is less than or equal to 1, it is not considered a prime number\n",
    "    print(\"number is not a prime number\")\n",
    "if num > 1:\n",
    "    # checking the prime using for loop\n",
    "    for i in range(2,num):\n",
    "        if num % i == 0:\n",
    "            print(\" number is not prime\")\n",
    "            break\n",
    "    else:\n",
    "        print(\"number is prime\")"
   ]
  },
  {
   "cell_type": "markdown",
   "id": "141d1ec4-0373-41b4-84d0-b48681b6e582",
   "metadata": {},
   "source": [
    "## Exercise 2: Product of Random Numbers"
   ]
  },
  {
   "cell_type": "raw",
   "id": "d1b77540-d4a0-49a3-a000-645f3c02e0ca",
   "metadata": {},
   "source": [
    "Develop a Python program that generates two random numbers and asks the user to enter the product of these numbers. The program should then check if the user's answer is correct and display an appropriate message."
   ]
  },
  {
   "cell_type": "code",
   "execution_count": 2,
   "id": "baf43a0f-c357-451a-963e-1dd0bbd66d62",
   "metadata": {},
   "outputs": [
    {
     "name": "stdout",
     "output_type": "stream",
     "text": [
      "What is the product of 3 and 4?\n"
     ]
    },
    {
     "name": "stdin",
     "output_type": "stream",
     "text": [
      "Enter your answer:  2\n"
     ]
    },
    {
     "name": "stdout",
     "output_type": "stream",
     "text": [
      "sorry try next time\n"
     ]
    }
   ],
   "source": [
    "#importing required libraries\n",
    "import random\n",
    "# taking the two random number\n",
    "num1 = random.randint(1,10)\n",
    "num2 = random.randint(1,10)\n",
    "# Calculate the product of the two numbers\n",
    "product = num1 * num2\n",
    "# user to enter the product of the two numbers\n",
    "print(f\"What is the product of {num1} and {num2}?\")\n",
    "try:\n",
    "    user_answer = int(input(\"Enter your answer: \"))\n",
    "except ValueError:\n",
    "    print(\"Invalid input. Please enter a number.\")\n",
    "    exit()\n",
    "# Check if the user's answer is correct\n",
    "if user_answer == product:\n",
    "    print(\"Correct! Well done.\")\n",
    "else:\n",
    "    print(\"sorry try next time\")"
   ]
  },
  {
   "cell_type": "markdown",
   "id": "1a4aee41-dad4-4a4c-912f-ce6acc42fdfe",
   "metadata": {},
   "source": [
    "## Exercise 3: Squares of Even/Odd Numbers"
   ]
  },
  {
   "cell_type": "raw",
   "id": "30f14e7b-07ee-4115-82c4-150e707e385b",
   "metadata": {},
   "source": [
    "Create a Python script that prints the squares of all even or odd numbers within the range of 100 to 200. Choose either even or odd numbers and document your choice in the code."
   ]
  },
  {
   "cell_type": "code",
   "execution_count": 3,
   "id": "d63bff3e-e032-41d8-ac35-653644bfac3a",
   "metadata": {},
   "outputs": [
    {
     "name": "stdout",
     "output_type": "stream",
     "text": [
      "The square of  100 is 10000\n",
      "The square of  102 is 10404\n",
      "The square of  104 is 10816\n",
      "The square of  106 is 11236\n",
      "The square of  108 is 11664\n",
      "The square of  110 is 12100\n",
      "The square of  112 is 12544\n",
      "The square of  114 is 12996\n",
      "The square of  116 is 13456\n",
      "The square of  118 is 13924\n",
      "The square of  120 is 14400\n",
      "The square of  122 is 14884\n",
      "The square of  124 is 15376\n",
      "The square of  126 is 15876\n",
      "The square of  128 is 16384\n",
      "The square of  130 is 16900\n",
      "The square of  132 is 17424\n",
      "The square of  134 is 17956\n",
      "The square of  136 is 18496\n",
      "The square of  138 is 19044\n",
      "The square of  140 is 19600\n",
      "The square of  142 is 20164\n",
      "The square of  144 is 20736\n",
      "The square of  146 is 21316\n",
      "The square of  148 is 21904\n",
      "The square of  150 is 22500\n",
      "The square of  152 is 23104\n",
      "The square of  154 is 23716\n",
      "The square of  156 is 24336\n",
      "The square of  158 is 24964\n",
      "The square of  160 is 25600\n",
      "The square of  162 is 26244\n",
      "The square of  164 is 26896\n",
      "The square of  166 is 27556\n",
      "The square of  168 is 28224\n",
      "The square of  170 is 28900\n",
      "The square of  172 is 29584\n",
      "The square of  174 is 30276\n",
      "The square of  176 is 30976\n",
      "The square of  178 is 31684\n",
      "The square of  180 is 32400\n",
      "The square of  182 is 33124\n",
      "The square of  184 is 33856\n",
      "The square of  186 is 34596\n",
      "The square of  188 is 35344\n",
      "The square of  190 is 36100\n",
      "The square of  192 is 36864\n",
      "The square of  194 is 37636\n",
      "The square of  196 is 38416\n",
      "The square of  198 is 39204\n",
      "The square of  200 is 40000\n"
     ]
    }
   ],
   "source": [
    "# This script prints the squares of all even numbers within the range of 100 to 200.\n",
    "# Define the range uding for loop\n",
    "for number in range(100,201):\n",
    "    # Check if the number is even\n",
    "    if number % 2 == 0:\n",
    "        # Calculate the square of the even number\n",
    "        square = number ** 2\n",
    "        # Print the result\n",
    "        print(\"The square of \",number, \"is\", square)"
   ]
  },
  {
   "cell_type": "markdown",
   "id": "c592dd90-967e-49d3-9a01-1d88fe995978",
   "metadata": {},
   "source": [
    "## Exercise 4: Word counter"
   ]
  },
  {
   "cell_type": "raw",
   "id": "c3bb680a-8b06-46b5-9561-1b4a263bccd5",
   "metadata": {},
   "source": [
    "write a program to count the number of words in a given text.\n",
    "example:\n",
    "input_text = \"This is a sample text. This text will be used to demonstrate the word counter.\"\n",
    "Expected output:\n",
    "'This': 2 \n",
    "'is': 1\n",
    "'a': 1\n",
    "'sample': 1\n",
    "'text.': 1\n"
   ]
  },
  {
   "cell_type": "code",
   "execution_count": 4,
   "id": "8a0b2efa-2ab3-4575-bcf8-790233e86a39",
   "metadata": {},
   "outputs": [
    {
     "name": "stdin",
     "output_type": "stream",
     "text": [
      "enter the text hdbvjdafagvbjearfvbsjdz\n"
     ]
    },
    {
     "name": "stdout",
     "output_type": "stream",
     "text": [
      "'hdbvjdafagvbjearfvbsjdz': 1\n"
     ]
    }
   ],
   "source": [
    "from collections import Counter\n",
    "\n",
    "# Example input text\n",
    "input_text = input(\"enter the text\")\n",
    "\n",
    "# Split the text into words based on spaces\n",
    "words = input_text.split()\n",
    "\n",
    "# Count the frequency of each word using Counter\n",
    "word_count = Counter(words)\n",
    "\n",
    "# Print out the word counts\n",
    "for word, count in word_count.items():\n",
    "    print(f\"'{word}': {count}\")\n"
   ]
  },
  {
   "cell_type": "markdown",
   "id": "da971a74-83c8-438a-b881-0061bb30debd",
   "metadata": {},
   "source": [
    "## Exercise 5: Check for Palindrome"
   ]
  },
  {
   "cell_type": "raw",
   "id": "bec3adaf-3b06-4241-92e4-db91a01209a9",
   "metadata": {},
   "source": [
    "Write a Python function called is_palindrome that takes a string as input and returns True if the string is a palindrome, and False otherwise. A palindrome is a word, phrase, number, or other sequence of characters that reads the same forward and backward, ignoring spaces, punctuation, and capitalization.\n",
    "Example:\n",
    "Input: \"racecar\"\n",
    "Expected Output: True\n"
   ]
  },
  {
   "cell_type": "code",
   "execution_count": 21,
   "id": "ddc079b9-6eaa-4265-a3d4-c7fca0c56864",
   "metadata": {},
   "outputs": [],
   "source": [
    "def palindrome():\n",
    "    #user to input a string\n",
    "    string = input(\"enter the string\")\n",
    "    \n",
    "    # Reverse the input string using slicing\n",
    "    reverse = string[::-1]\n",
    "    \n",
    "    # Check if the original string is equal to the reversed string\n",
    "    if(string == reverse):\n",
    "        # If they are the same, return True (the string is a palindrome)\n",
    "        return True\n",
    "    else:\n",
    "        # If they are different, return False (the string is not a palindrome)\n",
    "        return False\n"
   ]
  },
  {
   "cell_type": "code",
   "execution_count": 22,
   "id": "0d141fb9-7a3d-4117-a433-0d4f78b0c036",
   "metadata": {},
   "outputs": [
    {
     "name": "stdin",
     "output_type": "stream",
     "text": [
      "enter the string wow\n"
     ]
    },
    {
     "data": {
      "text/plain": [
       "True"
      ]
     },
     "execution_count": 22,
     "metadata": {},
     "output_type": "execute_result"
    }
   ],
   "source": [
    "palindrome()"
   ]
  },
  {
   "cell_type": "code",
   "execution_count": null,
   "id": "3a66fa83-ba06-4747-aa47-ef311b8d62a3",
   "metadata": {},
   "outputs": [],
   "source": []
  },
  {
   "cell_type": "code",
   "execution_count": null,
   "id": "1bec4a22-df20-473a-b3b9-f61097ab0c5d",
   "metadata": {},
   "outputs": [],
   "source": []
  },
  {
   "cell_type": "code",
   "execution_count": null,
   "id": "958154e9-ee7f-4dcf-a933-f1d68ce7ef95",
   "metadata": {},
   "outputs": [],
   "source": []
  },
  {
   "cell_type": "code",
   "execution_count": null,
   "id": "ac052d0f-ae82-4422-bd78-bc217a97b9cd",
   "metadata": {},
   "outputs": [],
   "source": []
  },
  {
   "cell_type": "code",
   "execution_count": null,
   "id": "0cd23df5-d4bd-44bc-b731-fda2718a61f7",
   "metadata": {},
   "outputs": [],
   "source": []
  },
  {
   "cell_type": "code",
   "execution_count": null,
   "id": "ec576819-0578-4a6a-a77b-791302a82175",
   "metadata": {},
   "outputs": [],
   "source": []
  }
 ],
 "metadata": {
  "kernelspec": {
   "display_name": "Python 3 (ipykernel)",
   "language": "python",
   "name": "python3"
  },
  "language_info": {
   "codemirror_mode": {
    "name": "ipython",
    "version": 3
   },
   "file_extension": ".py",
   "mimetype": "text/x-python",
   "name": "python",
   "nbconvert_exporter": "python",
   "pygments_lexer": "ipython3",
   "version": "3.12.3"
  }
 },
 "nbformat": 4,
 "nbformat_minor": 5
}
