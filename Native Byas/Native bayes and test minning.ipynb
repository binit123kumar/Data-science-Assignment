{
 "cells": [
  {
   "cell_type": "markdown",
   "id": "93921084-381e-4f3a-b177-49d22206ff71",
   "metadata": {},
   "source": [
    "Naive Bayes"
   ]
  },
  {
   "cell_type": "markdown",
   "id": "9e4215a6-b345-4867-8da4-8aa5ab86cc5c",
   "metadata": {},
   "source": [
    "Naive Bayes is a classification algorithm based on Bayes' theorem, which provides a probabilistic approach to predicting the class of a given instance. Despite its simplicity, it can be quite effective, especially for text classification tasks."
   ]
  },
  {
   "cell_type": "markdown",
   "id": "d24ea344-231f-4cba-812e-9092cd309cee",
   "metadata": {},
   "source": [
    "1. Data Exploration and Preprocessing"
   ]
  },
  {
   "cell_type": "code",
   "execution_count": 2,
   "id": "0b5aeddf-054c-4a2d-8b6d-19a72776d206",
   "metadata": {},
   "outputs": [
    {
     "data": {
      "text/html": [
       "<div>\n",
       "<style scoped>\n",
       "    .dataframe tbody tr th:only-of-type {\n",
       "        vertical-align: middle;\n",
       "    }\n",
       "\n",
       "    .dataframe tbody tr th {\n",
       "        vertical-align: top;\n",
       "    }\n",
       "\n",
       "    .dataframe thead th {\n",
       "        text-align: right;\n",
       "    }\n",
       "</style>\n",
       "<table border=\"1\" class=\"dataframe\">\n",
       "  <thead>\n",
       "    <tr style=\"text-align: right;\">\n",
       "      <th></th>\n",
       "      <th>Data</th>\n",
       "      <th>Labels</th>\n",
       "    </tr>\n",
       "  </thead>\n",
       "  <tbody>\n",
       "    <tr>\n",
       "      <th>0</th>\n",
       "      <td>Path: cantaloupe.srv.cs.cmu.edu!magnesium.club...</td>\n",
       "      <td>alt.atheism</td>\n",
       "    </tr>\n",
       "    <tr>\n",
       "      <th>1</th>\n",
       "      <td>Newsgroups: alt.atheism\\nPath: cantaloupe.srv....</td>\n",
       "      <td>alt.atheism</td>\n",
       "    </tr>\n",
       "    <tr>\n",
       "      <th>2</th>\n",
       "      <td>Path: cantaloupe.srv.cs.cmu.edu!das-news.harva...</td>\n",
       "      <td>alt.atheism</td>\n",
       "    </tr>\n",
       "    <tr>\n",
       "      <th>3</th>\n",
       "      <td>Path: cantaloupe.srv.cs.cmu.edu!magnesium.club...</td>\n",
       "      <td>alt.atheism</td>\n",
       "    </tr>\n",
       "    <tr>\n",
       "      <th>4</th>\n",
       "      <td>Xref: cantaloupe.srv.cs.cmu.edu alt.atheism:53...</td>\n",
       "      <td>alt.atheism</td>\n",
       "    </tr>\n",
       "    <tr>\n",
       "      <th>...</th>\n",
       "      <td>...</td>\n",
       "      <td>...</td>\n",
       "    </tr>\n",
       "    <tr>\n",
       "      <th>1995</th>\n",
       "      <td>Xref: cantaloupe.srv.cs.cmu.edu talk.abortion:...</td>\n",
       "      <td>talk.religion.misc</td>\n",
       "    </tr>\n",
       "    <tr>\n",
       "      <th>1996</th>\n",
       "      <td>Xref: cantaloupe.srv.cs.cmu.edu talk.religion....</td>\n",
       "      <td>talk.religion.misc</td>\n",
       "    </tr>\n",
       "    <tr>\n",
       "      <th>1997</th>\n",
       "      <td>Xref: cantaloupe.srv.cs.cmu.edu talk.origins:4...</td>\n",
       "      <td>talk.religion.misc</td>\n",
       "    </tr>\n",
       "    <tr>\n",
       "      <th>1998</th>\n",
       "      <td>Xref: cantaloupe.srv.cs.cmu.edu talk.religion....</td>\n",
       "      <td>talk.religion.misc</td>\n",
       "    </tr>\n",
       "    <tr>\n",
       "      <th>1999</th>\n",
       "      <td>Xref: cantaloupe.srv.cs.cmu.edu sci.skeptic:43...</td>\n",
       "      <td>talk.religion.misc</td>\n",
       "    </tr>\n",
       "  </tbody>\n",
       "</table>\n",
       "<p>2000 rows × 2 columns</p>\n",
       "</div>"
      ],
      "text/plain": [
       "                                                   Data              Labels\n",
       "0     Path: cantaloupe.srv.cs.cmu.edu!magnesium.club...         alt.atheism\n",
       "1     Newsgroups: alt.atheism\\nPath: cantaloupe.srv....         alt.atheism\n",
       "2     Path: cantaloupe.srv.cs.cmu.edu!das-news.harva...         alt.atheism\n",
       "3     Path: cantaloupe.srv.cs.cmu.edu!magnesium.club...         alt.atheism\n",
       "4     Xref: cantaloupe.srv.cs.cmu.edu alt.atheism:53...         alt.atheism\n",
       "...                                                 ...                 ...\n",
       "1995  Xref: cantaloupe.srv.cs.cmu.edu talk.abortion:...  talk.religion.misc\n",
       "1996  Xref: cantaloupe.srv.cs.cmu.edu talk.religion....  talk.religion.misc\n",
       "1997  Xref: cantaloupe.srv.cs.cmu.edu talk.origins:4...  talk.religion.misc\n",
       "1998  Xref: cantaloupe.srv.cs.cmu.edu talk.religion....  talk.religion.misc\n",
       "1999  Xref: cantaloupe.srv.cs.cmu.edu sci.skeptic:43...  talk.religion.misc\n",
       "\n",
       "[2000 rows x 2 columns]"
      ]
     },
     "execution_count": 2,
     "metadata": {},
     "output_type": "execute_result"
    }
   ],
   "source": [
    "#importing require libreries\n",
    "import pandas as pd\n",
    "import matplotlib.pyplot as plt \n",
    "import seaborn as sns \n",
    "#import the data\n",
    "blogs=pd.read_csv(\"blogs.csv\")\n",
    "blogs"
   ]
  },
  {
   "cell_type": "code",
   "execution_count": 3,
   "id": "3e507e9c-9369-4b16-8b20-7c7ad13c09d3",
   "metadata": {},
   "outputs": [
    {
     "name": "stdout",
     "output_type": "stream",
     "text": [
      "<class 'pandas.core.frame.DataFrame'>\n",
      "RangeIndex: 2000 entries, 0 to 1999\n",
      "Data columns (total 2 columns):\n",
      " #   Column  Non-Null Count  Dtype \n",
      "---  ------  --------------  ----- \n",
      " 0   Data    2000 non-null   object\n",
      " 1   Labels  2000 non-null   object\n",
      "dtypes: object(2)\n",
      "memory usage: 31.4+ KB\n"
     ]
    }
   ],
   "source": [
    "# check information of data use info function\n",
    "blogs.info()"
   ]
  },
  {
   "cell_type": "code",
   "execution_count": 4,
   "id": "bc0ee1af-9925-4264-952f-25f5329295c8",
   "metadata": {},
   "outputs": [
    {
     "data": {
      "text/html": [
       "<div>\n",
       "<style scoped>\n",
       "    .dataframe tbody tr th:only-of-type {\n",
       "        vertical-align: middle;\n",
       "    }\n",
       "\n",
       "    .dataframe tbody tr th {\n",
       "        vertical-align: top;\n",
       "    }\n",
       "\n",
       "    .dataframe thead th {\n",
       "        text-align: right;\n",
       "    }\n",
       "</style>\n",
       "<table border=\"1\" class=\"dataframe\">\n",
       "  <thead>\n",
       "    <tr style=\"text-align: right;\">\n",
       "      <th></th>\n",
       "      <th>Data</th>\n",
       "      <th>Labels</th>\n",
       "    </tr>\n",
       "  </thead>\n",
       "  <tbody>\n",
       "    <tr>\n",
       "      <th>count</th>\n",
       "      <td>2000</td>\n",
       "      <td>2000</td>\n",
       "    </tr>\n",
       "    <tr>\n",
       "      <th>unique</th>\n",
       "      <td>2000</td>\n",
       "      <td>20</td>\n",
       "    </tr>\n",
       "    <tr>\n",
       "      <th>top</th>\n",
       "      <td>Path: cantaloupe.srv.cs.cmu.edu!magnesium.club...</td>\n",
       "      <td>alt.atheism</td>\n",
       "    </tr>\n",
       "    <tr>\n",
       "      <th>freq</th>\n",
       "      <td>1</td>\n",
       "      <td>100</td>\n",
       "    </tr>\n",
       "  </tbody>\n",
       "</table>\n",
       "</div>"
      ],
      "text/plain": [
       "                                                     Data       Labels\n",
       "count                                                2000         2000\n",
       "unique                                               2000           20\n",
       "top     Path: cantaloupe.srv.cs.cmu.edu!magnesium.club...  alt.atheism\n",
       "freq                                                    1          100"
      ]
     },
     "execution_count": 4,
     "metadata": {},
     "output_type": "execute_result"
    }
   ],
   "source": [
    "blogs.describe()#check the data mean max"
   ]
  },
  {
   "cell_type": "code",
   "execution_count": 5,
   "id": "66dd73ea-b141-4c24-94b4-7a1c2f183dd0",
   "metadata": {},
   "outputs": [
    {
     "data": {
      "text/plain": [
       "Data      0\n",
       "Labels    0\n",
       "dtype: int64"
      ]
     },
     "execution_count": 5,
     "metadata": {},
     "output_type": "execute_result"
    }
   ],
   "source": [
    "blogs.isnull().sum()#check missing data use isnull function"
   ]
  },
  {
   "cell_type": "code",
   "execution_count": 6,
   "id": "78f6bc08-be87-4753-ae5e-4f2fbfa0993b",
   "metadata": {},
   "outputs": [
    {
     "data": {
      "text/html": [
       "<div>\n",
       "<style scoped>\n",
       "    .dataframe tbody tr th:only-of-type {\n",
       "        vertical-align: middle;\n",
       "    }\n",
       "\n",
       "    .dataframe tbody tr th {\n",
       "        vertical-align: top;\n",
       "    }\n",
       "\n",
       "    .dataframe thead th {\n",
       "        text-align: right;\n",
       "    }\n",
       "</style>\n",
       "<table border=\"1\" class=\"dataframe\">\n",
       "  <thead>\n",
       "    <tr style=\"text-align: right;\">\n",
       "      <th></th>\n",
       "      <th>Data</th>\n",
       "      <th>Labels</th>\n",
       "    </tr>\n",
       "  </thead>\n",
       "  <tbody>\n",
       "  </tbody>\n",
       "</table>\n",
       "</div>"
      ],
      "text/plain": [
       "Empty DataFrame\n",
       "Columns: [Data, Labels]\n",
       "Index: []"
      ]
     },
     "execution_count": 6,
     "metadata": {},
     "output_type": "execute_result"
    }
   ],
   "source": [
    "blogs[blogs.duplicated()]#check duplicate data use duplicated function"
   ]
  },
  {
   "cell_type": "code",
   "execution_count": 7,
   "id": "800cf567-51d8-4f64-a332-155f6a8f7fe1",
   "metadata": {},
   "outputs": [
    {
     "data": {
      "text/html": [
       "<div>\n",
       "<style scoped>\n",
       "    .dataframe tbody tr th:only-of-type {\n",
       "        vertical-align: middle;\n",
       "    }\n",
       "\n",
       "    .dataframe tbody tr th {\n",
       "        vertical-align: top;\n",
       "    }\n",
       "\n",
       "    .dataframe thead th {\n",
       "        text-align: right;\n",
       "    }\n",
       "</style>\n",
       "<table border=\"1\" class=\"dataframe\">\n",
       "  <thead>\n",
       "    <tr style=\"text-align: right;\">\n",
       "      <th></th>\n",
       "      <th>Data</th>\n",
       "      <th>Labels</th>\n",
       "    </tr>\n",
       "  </thead>\n",
       "  <tbody>\n",
       "    <tr>\n",
       "      <th>0</th>\n",
       "      <td>Path: cantaloupe.srv.cs.cmu.edu!magnesium.club...</td>\n",
       "      <td>alt.atheism</td>\n",
       "    </tr>\n",
       "    <tr>\n",
       "      <th>1</th>\n",
       "      <td>Newsgroups: alt.atheism\\nPath: cantaloupe.srv....</td>\n",
       "      <td>alt.atheism</td>\n",
       "    </tr>\n",
       "    <tr>\n",
       "      <th>2</th>\n",
       "      <td>Path: cantaloupe.srv.cs.cmu.edu!das-news.harva...</td>\n",
       "      <td>alt.atheism</td>\n",
       "    </tr>\n",
       "    <tr>\n",
       "      <th>3</th>\n",
       "      <td>Path: cantaloupe.srv.cs.cmu.edu!magnesium.club...</td>\n",
       "      <td>alt.atheism</td>\n",
       "    </tr>\n",
       "    <tr>\n",
       "      <th>4</th>\n",
       "      <td>Xref: cantaloupe.srv.cs.cmu.edu alt.atheism:53...</td>\n",
       "      <td>alt.atheism</td>\n",
       "    </tr>\n",
       "    <tr>\n",
       "      <th>...</th>\n",
       "      <td>...</td>\n",
       "      <td>...</td>\n",
       "    </tr>\n",
       "    <tr>\n",
       "      <th>1995</th>\n",
       "      <td>Xref: cantaloupe.srv.cs.cmu.edu talk.abortion:...</td>\n",
       "      <td>talk.religion.misc</td>\n",
       "    </tr>\n",
       "    <tr>\n",
       "      <th>1996</th>\n",
       "      <td>Xref: cantaloupe.srv.cs.cmu.edu talk.religion....</td>\n",
       "      <td>talk.religion.misc</td>\n",
       "    </tr>\n",
       "    <tr>\n",
       "      <th>1997</th>\n",
       "      <td>Xref: cantaloupe.srv.cs.cmu.edu talk.origins:4...</td>\n",
       "      <td>talk.religion.misc</td>\n",
       "    </tr>\n",
       "    <tr>\n",
       "      <th>1998</th>\n",
       "      <td>Xref: cantaloupe.srv.cs.cmu.edu talk.religion....</td>\n",
       "      <td>talk.religion.misc</td>\n",
       "    </tr>\n",
       "    <tr>\n",
       "      <th>1999</th>\n",
       "      <td>Xref: cantaloupe.srv.cs.cmu.edu sci.skeptic:43...</td>\n",
       "      <td>talk.religion.misc</td>\n",
       "    </tr>\n",
       "  </tbody>\n",
       "</table>\n",
       "<p>2000 rows × 2 columns</p>\n",
       "</div>"
      ],
      "text/plain": [
       "                                                   Data              Labels\n",
       "0     Path: cantaloupe.srv.cs.cmu.edu!magnesium.club...         alt.atheism\n",
       "1     Newsgroups: alt.atheism\\nPath: cantaloupe.srv....         alt.atheism\n",
       "2     Path: cantaloupe.srv.cs.cmu.edu!das-news.harva...         alt.atheism\n",
       "3     Path: cantaloupe.srv.cs.cmu.edu!magnesium.club...         alt.atheism\n",
       "4     Xref: cantaloupe.srv.cs.cmu.edu alt.atheism:53...         alt.atheism\n",
       "...                                                 ...                 ...\n",
       "1995  Xref: cantaloupe.srv.cs.cmu.edu talk.abortion:...  talk.religion.misc\n",
       "1996  Xref: cantaloupe.srv.cs.cmu.edu talk.religion....  talk.religion.misc\n",
       "1997  Xref: cantaloupe.srv.cs.cmu.edu talk.origins:4...  talk.religion.misc\n",
       "1998  Xref: cantaloupe.srv.cs.cmu.edu talk.religion....  talk.religion.misc\n",
       "1999  Xref: cantaloupe.srv.cs.cmu.edu sci.skeptic:43...  talk.religion.misc\n",
       "\n",
       "[2000 rows x 2 columns]"
      ]
     },
     "execution_count": 7,
     "metadata": {},
     "output_type": "execute_result"
    }
   ],
   "source": [
    "blogs.drop_duplicates()"
   ]
  },
  {
   "cell_type": "code",
   "execution_count": 8,
   "id": "3638dd85-6fb4-41ab-9e3f-9d5cae52844a",
   "metadata": {},
   "outputs": [
    {
     "name": "stdout",
     "output_type": "stream",
     "text": [
      "Defaulting to user installation because normal site-packages is not writeable\n",
      "Requirement already satisfied: nltk in c:\\users\\binit\\appdata\\roaming\\python\\python312\\site-packages (3.8.1)\n",
      "Requirement already satisfied: click in c:\\users\\binit\\appdata\\roaming\\python\\python312\\site-packages (from nltk) (8.1.7)\n",
      "Requirement already satisfied: joblib in c:\\users\\binit\\appdata\\roaming\\python\\python312\\site-packages (from nltk) (1.4.2)\n",
      "Requirement already satisfied: regex>=2021.8.3 in c:\\users\\binit\\appdata\\roaming\\python\\python312\\site-packages (from nltk) (2024.5.15)\n",
      "Requirement already satisfied: tqdm in c:\\users\\binit\\appdata\\roaming\\python\\python312\\site-packages (from nltk) (4.66.4)\n",
      "Requirement already satisfied: colorama in c:\\users\\binit\\appdata\\roaming\\python\\python312\\site-packages (from click->nltk) (0.4.6)\n",
      "Note: you may need to restart the kernel to use updated packages.\n"
     ]
    }
   ],
   "source": [
    "pip install nltk\n"
   ]
  },
  {
   "cell_type": "code",
   "execution_count": 9,
   "id": "a698ca15-3dc4-4b33-b82d-d64e280a68c7",
   "metadata": {},
   "outputs": [
    {
     "name": "stderr",
     "output_type": "stream",
     "text": [
      "[nltk_data] Downloading package stopwords to\n",
      "[nltk_data]     C:\\Users\\binit/nltk_data...\n",
      "[nltk_data]   Package stopwords is already up-to-date!\n"
     ]
    },
    {
     "data": {
      "text/plain": [
       "True"
      ]
     },
     "execution_count": 9,
     "metadata": {},
     "output_type": "execute_result"
    }
   ],
   "source": [
    "import nltk\n",
    "nltk.download('stopwords')\n"
   ]
  },
  {
   "cell_type": "code",
   "execution_count": 10,
   "id": "5a05606f-9c45-4fb6-860b-b8256162dbcd",
   "metadata": {},
   "outputs": [
    {
     "name": "stdout",
     "output_type": "stream",
     "text": [
      "['i', 'me', 'my', 'myself', 'we', 'our', 'ours', 'ourselves', 'you', \"you're\", \"you've\", \"you'll\", \"you'd\", 'your', 'yours', 'yourself', 'yourselves', 'he', 'him', 'his', 'himself', 'she', \"she's\", 'her', 'hers', 'herself', 'it', \"it's\", 'its', 'itself', 'they', 'them', 'their', 'theirs', 'themselves', 'what', 'which', 'who', 'whom', 'this', 'that', \"that'll\", 'these', 'those', 'am', 'is', 'are', 'was', 'were', 'be', 'been', 'being', 'have', 'has', 'had', 'having', 'do', 'does', 'did', 'doing', 'a', 'an', 'the', 'and', 'but', 'if', 'or', 'because', 'as', 'until', 'while', 'of', 'at', 'by', 'for', 'with', 'about', 'against', 'between', 'into', 'through', 'during', 'before', 'after', 'above', 'below', 'to', 'from', 'up', 'down', 'in', 'out', 'on', 'off', 'over', 'under', 'again', 'further', 'then', 'once', 'here', 'there', 'when', 'where', 'why', 'how', 'all', 'any', 'both', 'each', 'few', 'more', 'most', 'other', 'some', 'such', 'no', 'nor', 'not', 'only', 'own', 'same', 'so', 'than', 'too', 'very', 's', 't', 'can', 'will', 'just', 'don', \"don't\", 'should', \"should've\", 'now', 'd', 'll', 'm', 'o', 're', 've', 'y', 'ain', 'aren', \"aren't\", 'couldn', \"couldn't\", 'didn', \"didn't\", 'doesn', \"doesn't\", 'hadn', \"hadn't\", 'hasn', \"hasn't\", 'haven', \"haven't\", 'isn', \"isn't\", 'ma', 'mightn', \"mightn't\", 'mustn', \"mustn't\", 'needn', \"needn't\", 'shan', \"shan't\", 'shouldn', \"shouldn't\", 'wasn', \"wasn't\", 'weren', \"weren't\", 'won', \"won't\", 'wouldn', \"wouldn't\"]\n"
     ]
    }
   ],
   "source": [
    "from nltk.corpus import stopwords\n",
    "\n",
    "print(stopwords.words('english'))\n"
   ]
  },
  {
   "cell_type": "code",
   "execution_count": 11,
   "id": "059f184e-d602-477d-9c27-22a6fe2cd9a0",
   "metadata": {},
   "outputs": [
    {
     "name": "stderr",
     "output_type": "stream",
     "text": [
      "[nltk_data] Downloading package stopwords to\n",
      "[nltk_data]     C:/Users/binit/nltk_data...\n",
      "[nltk_data]   Package stopwords is already up-to-date!\n"
     ]
    },
    {
     "data": {
      "text/plain": [
       "True"
      ]
     },
     "execution_count": 11,
     "metadata": {},
     "output_type": "execute_result"
    }
   ],
   "source": [
    "import nltk\n",
    "nltk.data.path.append('C:/Users/binit/nltk_data')  # Adjust the path as needed\n",
    "nltk.download('stopwords', download_dir='C:/Users/binit/nltk_data')\n"
   ]
  },
  {
   "cell_type": "code",
   "execution_count": 12,
   "id": "7ba15211-443e-4d07-86e5-ca45b14636b1",
   "metadata": {},
   "outputs": [
    {
     "name": "stdout",
     "output_type": "stream",
     "text": [
      "0       path cantaloupesrvcscmuedumagnesiumclubcccmued...\n",
      "1       newsgroups altatheism path cantaloupesrvcscmue...\n",
      "2       path cantaloupesrvcscmuedudasnewsharvardedunoc...\n",
      "3       path cantaloupesrvcscmuedumagnesiumclubcccmued...\n",
      "4       xref cantaloupesrvcscmuedu altatheism53485 tal...\n",
      "                              ...                        \n",
      "1995    xref cantaloupesrvcscmuedu talkabortion120945 ...\n",
      "1996    xref cantaloupesrvcscmuedu talkreligionmisc837...\n",
      "1997    xref cantaloupesrvcscmuedu talkorigins41030 ta...\n",
      "1998    xref cantaloupesrvcscmuedu talkreligionmisc836...\n",
      "1999    xref cantaloupesrvcscmuedu sciskeptic43561 tal...\n",
      "Name: cleaned_text, Length: 2000, dtype: object\n"
     ]
    }
   ],
   "source": [
    "import string\n",
    "from nltk.corpus import stopwords\n",
    "from nltk.tokenize import word_tokenize\n",
    "\n",
    "def preprocess_text(text):\n",
    "    text = text.lower()  # Convert to lowercase\n",
    "    text = text.translate(str.maketrans('', '', string.punctuation))  # Remove punctuation\n",
    "    tokens = word_tokenize(text)  # Tokenize the text\n",
    "    stop_words = set(stopwords.words('english'))  # Load stopwords\n",
    "    filtered_tokens = [word for word in tokens if word not in stop_words]  # Remove stopwords\n",
    "    return ' '.join(filtered_tokens)\n",
    "\n",
    "# Apply preprocessing\n",
    "data['cleaned_text'] = data['Data'].apply(preprocess_text)\n",
    "print(data['cleaned_text'])\n"
   ]
  },
  {
   "cell_type": "code",
   "execution_count": null,
   "id": "bf1fa613-4a5b-4c51-90f3-1660ed11a2c5",
   "metadata": {},
   "outputs": [],
   "source": []
  },
  {
   "cell_type": "code",
   "execution_count": 13,
   "id": "6d7f9080-6261-479d-a945-e3cdea379577",
   "metadata": {},
   "outputs": [
    {
     "data": {
      "text/plain": [
       "0       path cantaloupesrvcscmuedumagnesiumclubcccmued...\n",
       "1       newsgroups altatheism path cantaloupesrvcscmue...\n",
       "2       path cantaloupesrvcscmuedudasnewsharvardedunoc...\n",
       "3       path cantaloupesrvcscmuedumagnesiumclubcccmued...\n",
       "4       xref cantaloupesrvcscmuedu altatheism53485 tal...\n",
       "                              ...                        \n",
       "1995    xref cantaloupesrvcscmuedu talkabortion120945 ...\n",
       "1996    xref cantaloupesrvcscmuedu talkreligionmisc837...\n",
       "1997    xref cantaloupesrvcscmuedu talkorigins41030 ta...\n",
       "1998    xref cantaloupesrvcscmuedu talkreligionmisc836...\n",
       "1999    xref cantaloupesrvcscmuedu sciskeptic43561 tal...\n",
       "Name: cleaned_text, Length: 2000, dtype: object"
      ]
     },
     "execution_count": 13,
     "metadata": {},
     "output_type": "execute_result"
    }
   ],
   "source": [
    "import string\n",
    "from nltk.corpus import stopwords\n",
    "from nltk.tokenize import word_tokenize\n",
    "from sklearn.feature_extraction.text import TfidfVectorizer\n",
    "\n",
    "# Download NLTK data files (run this once)\n",
    "import nltk\n",
    "# nltk.download('punkt')\n",
    "# nltk.download('stopwords')\n",
    "\n",
    "# Function to clean text\n",
    "def preprocess_text(text):\n",
    "    text = text.lower()  # Convert to lowercase\n",
    "    text = text.translate(str.maketrans('', '', string.punctuation))  # Remove punctuation\n",
    "    tokens = word_tokenize(text)  # Tokenize the text\n",
    "    stop_words = set(stopwords.words('english'))  # Load stopwords\n",
    "    filtered_tokens = [word for word in tokens if word not in stop_words]  # Remove stopwords\n",
    "    return ' '.join(filtered_tokens)\n",
    "\n",
    "# Apply preprocessing\n",
    "data['cleaned_text'] = data['Data'].apply(preprocess_text)\n",
    "data['cleaned_text']"
   ]
  },
  {
   "cell_type": "code",
   "execution_count": 14,
   "id": "e4bec5aa-d346-460d-a9d5-4b2034ac455e",
   "metadata": {},
   "outputs": [
    {
     "data": {
      "text/plain": [
       "0       path cantaloupesrvcscmuedumagnesiumclubcccmued...\n",
       "1       newsgroups altatheism path cantaloupesrvcscmue...\n",
       "2       path cantaloupesrvcscmuedudasnewsharvardedunoc...\n",
       "3       path cantaloupesrvcscmuedumagnesiumclubcccmued...\n",
       "4       xref cantaloupesrvcscmuedu altatheism53485 tal...\n",
       "                              ...                        \n",
       "1995    xref cantaloupesrvcscmuedu talkabortion120945 ...\n",
       "1996    xref cantaloupesrvcscmuedu talkreligionmisc837...\n",
       "1997    xref cantaloupesrvcscmuedu talkorigins41030 ta...\n",
       "1998    xref cantaloupesrvcscmuedu talkreligionmisc836...\n",
       "1999    xref cantaloupesrvcscmuedu sciskeptic43561 tal...\n",
       "Name: cleaned_text, Length: 2000, dtype: object"
      ]
     },
     "execution_count": 14,
     "metadata": {},
     "output_type": "execute_result"
    }
   ],
   "source": [
    "import string\n",
    "from nltk.corpus import stopwords\n",
    "from nltk.tokenize import word_tokenize\n",
    "from sklearn.feature_extraction.text import TfidfVectorizer\n",
    "\n",
    "# Download NLTK data files (run this once)\n",
    "import nltk\n",
    "# nltk.download('punkt')\n",
    "# nltk.download('stopwords')\n",
    "\n",
    "# Function to clean text\n",
    "def preprocess_text(text):\n",
    "    text = text.lower()  # Convert to lowercase\n",
    "    text = text.translate(str.maketrans('', '', string.punctuation))  # Remove punctuation\n",
    "    tokens = word_tokenize(text)  # Tokenize the text\n",
    "    stop_words = set(stopwords.words('english'))  # Load stopwords\n",
    "    filtered_tokens = [word for word in tokens if word not in stop_words]  # Remove stopwords\n",
    "    return ' '.join(filtered_tokens)\n",
    "\n",
    "# Apply preprocessing\n",
    "data['cleaned_text'] = data['Data'].apply(preprocess_text)\n",
    "data['cleaned_text']"
   ]
  },
  {
   "cell_type": "code",
   "execution_count": 15,
   "id": "83f56770-520d-4e95-831c-a65921e19dba",
   "metadata": {},
   "outputs": [],
   "source": [
    "# TF-IDF Vectorization\n",
    "tfidf_vectorizer = TfidfVectorizer()\n",
    "x= tfidf_vectorizer.fit_transform(data['cleaned_text'])\n",
    "\n",
    "# The labels for classification\n",
    "y = data['Labels']\n"
   ]
  },
  {
   "cell_type": "markdown",
   "id": "d9141c97-f8f7-48a0-b547-8d6d887168d2",
   "metadata": {},
   "source": [
    "2. Naive Bayes Model for Text Classification"
   ]
  },
  {
   "cell_type": "code",
   "execution_count": 16,
   "id": "5446dc05-259d-46b9-9994-ba6ffc8753d2",
   "metadata": {},
   "outputs": [
    {
     "data": {
      "text/plain": [
       "(<1600x56432 sparse matrix of type '<class 'numpy.float64'>'\n",
       " \twith 218452 stored elements in Compressed Sparse Row format>,\n",
       " 968          rec.sport.baseball\n",
       " 240     comp.os.ms-windows.misc\n",
       " 819             rec.motorcycles\n",
       " 692                misc.forsale\n",
       " 420       comp.sys.mac.hardware\n",
       "                  ...           \n",
       " 1130                  sci.crypt\n",
       " 1294            sci.electronics\n",
       " 860             rec.motorcycles\n",
       " 1459                  sci.space\n",
       " 1126                  sci.crypt\n",
       " Name: Labels, Length: 1600, dtype: object)"
      ]
     },
     "execution_count": 16,
     "metadata": {},
     "output_type": "execute_result"
    }
   ],
   "source": [
    "from sklearn.model_selection import train_test_split\n",
    "\n",
    "# Split the data into training and test sets\n",
    "x_train, x_test, y_train, y_test = train_test_split(x, y, test_size=0.2, random_state=42)\n",
    "x_train,y_train\n"
   ]
  },
  {
   "cell_type": "code",
   "execution_count": 17,
   "id": "9275d8ef-abd2-4580-9540-c2803900f1a4",
   "metadata": {},
   "outputs": [
    {
     "data": {
      "text/plain": [
       "array(['talk.politics.misc', 'comp.sys.ibm.pc.hardware', 'sci.med',\n",
       "       'rec.sport.baseball', 'sci.electronics', 'sci.electronics',\n",
       "       'rec.sport.baseball', 'talk.politics.mideast', 'alt.atheism',\n",
       "       'sci.med', 'alt.atheism', 'sci.electronics', 'sci.crypt',\n",
       "       'rec.sport.baseball', 'comp.sys.ibm.pc.hardware',\n",
       "       'comp.os.ms-windows.misc', 'rec.autos', 'comp.graphics',\n",
       "       'talk.politics.guns', 'talk.politics.misc',\n",
       "       'comp.sys.mac.hardware', 'alt.atheism', 'alt.atheism',\n",
       "       'rec.sport.hockey', 'alt.atheism', 'sci.crypt',\n",
       "       'talk.politics.misc', 'rec.sport.baseball', 'rec.autos',\n",
       "       'alt.atheism', 'talk.politics.misc', 'rec.sport.hockey',\n",
       "       'comp.windows.x', 'rec.sport.hockey', 'rec.sport.hockey',\n",
       "       'comp.sys.mac.hardware', 'sci.med', 'sci.electronics',\n",
       "       'rec.sport.hockey', 'comp.os.ms-windows.misc', 'sci.electronics',\n",
       "       'soc.religion.christian', 'comp.os.ms-windows.misc',\n",
       "       'talk.politics.misc', 'soc.religion.christian', 'rec.motorcycles',\n",
       "       'comp.windows.x', 'rec.motorcycles', 'alt.atheism',\n",
       "       'talk.politics.guns', 'soc.religion.christian',\n",
       "       'comp.os.ms-windows.misc', 'sci.space', 'comp.os.ms-windows.misc',\n",
       "       'rec.sport.baseball', 'talk.politics.mideast', 'sci.electronics',\n",
       "       'talk.politics.guns', 'sci.crypt', 'comp.sys.ibm.pc.hardware',\n",
       "       'sci.space', 'comp.graphics', 'talk.politics.guns',\n",
       "       'rec.sport.hockey', 'talk.religion.misc', 'talk.politics.misc',\n",
       "       'rec.sport.baseball', 'soc.religion.christian', 'comp.graphics',\n",
       "       'sci.space', 'sci.space', 'comp.sys.ibm.pc.hardware', 'sci.med',\n",
       "       'rec.sport.hockey', 'rec.motorcycles', 'comp.sys.ibm.pc.hardware',\n",
       "       'talk.politics.guns', 'talk.politics.misc', 'sci.electronics',\n",
       "       'talk.politics.misc', 'alt.atheism', 'rec.motorcycles',\n",
       "       'sci.space', 'soc.religion.christian', 'talk.politics.misc',\n",
       "       'rec.sport.baseball', 'talk.politics.mideast',\n",
       "       'comp.sys.mac.hardware', 'comp.graphics', 'talk.politics.guns',\n",
       "       'soc.religion.christian', 'talk.politics.mideast',\n",
       "       'comp.os.ms-windows.misc', 'comp.os.ms-windows.misc',\n",
       "       'talk.politics.misc', 'talk.politics.misc', 'comp.graphics',\n",
       "       'sci.electronics', 'soc.religion.christian', 'talk.politics.misc',\n",
       "       'rec.sport.baseball', 'rec.sport.baseball',\n",
       "       'comp.sys.mac.hardware', 'sci.med', 'comp.os.ms-windows.misc',\n",
       "       'rec.motorcycles', 'misc.forsale', 'comp.os.ms-windows.misc',\n",
       "       'rec.motorcycles', 'comp.windows.x', 'rec.autos', 'sci.space',\n",
       "       'rec.sport.hockey', 'talk.politics.mideast', 'rec.autos',\n",
       "       'sci.crypt', 'sci.crypt', 'rec.sport.baseball',\n",
       "       'comp.sys.ibm.pc.hardware', 'talk.politics.misc',\n",
       "       'talk.politics.misc', 'rec.sport.hockey', 'sci.crypt',\n",
       "       'comp.sys.mac.hardware', 'comp.sys.ibm.pc.hardware',\n",
       "       'soc.religion.christian', 'comp.sys.mac.hardware',\n",
       "       'rec.motorcycles', 'sci.crypt', 'comp.sys.ibm.pc.hardware',\n",
       "       'talk.religion.misc', 'talk.politics.misc', 'rec.autos',\n",
       "       'comp.windows.x', 'rec.motorcycles', 'rec.sport.baseball',\n",
       "       'alt.atheism', 'alt.atheism', 'talk.politics.guns',\n",
       "       'soc.religion.christian', 'sci.med', 'comp.sys.ibm.pc.hardware',\n",
       "       'talk.politics.misc', 'rec.motorcycles', 'soc.religion.christian',\n",
       "       'comp.windows.x', 'misc.forsale', 'comp.sys.mac.hardware',\n",
       "       'comp.os.ms-windows.misc', 'comp.graphics', 'talk.politics.guns',\n",
       "       'rec.sport.baseball', 'misc.forsale', 'sci.crypt',\n",
       "       'comp.sys.ibm.pc.hardware', 'misc.forsale', 'comp.windows.x',\n",
       "       'talk.politics.guns', 'comp.windows.x', 'talk.politics.guns',\n",
       "       'misc.forsale', 'rec.motorcycles', 'comp.graphics', 'sci.crypt',\n",
       "       'talk.religion.misc', 'sci.space', 'talk.politics.mideast',\n",
       "       'sci.electronics', 'comp.os.ms-windows.misc',\n",
       "       'talk.politics.mideast', 'sci.crypt', 'misc.forsale',\n",
       "       'alt.atheism', 'talk.politics.misc', 'comp.sys.mac.hardware',\n",
       "       'sci.med', 'rec.autos', 'sci.med', 'rec.motorcycles',\n",
       "       'soc.religion.christian', 'sci.electronics', 'rec.autos',\n",
       "       'talk.politics.misc', 'sci.crypt', 'rec.motorcycles', 'rec.autos',\n",
       "       'alt.atheism', 'talk.politics.guns', 'sci.crypt',\n",
       "       'sci.electronics', 'rec.autos', 'comp.os.ms-windows.misc',\n",
       "       'sci.med', 'comp.os.ms-windows.misc', 'alt.atheism',\n",
       "       'comp.sys.mac.hardware', 'sci.crypt', 'rec.motorcycles',\n",
       "       'misc.forsale', 'soc.religion.christian', 'talk.politics.misc',\n",
       "       'comp.windows.x', 'comp.graphics', 'rec.autos',\n",
       "       'comp.sys.mac.hardware', 'comp.os.ms-windows.misc', 'sci.space',\n",
       "       'comp.graphics', 'rec.sport.hockey', 'alt.atheism',\n",
       "       'talk.politics.mideast', 'alt.atheism', 'comp.os.ms-windows.misc',\n",
       "       'comp.graphics', 'rec.autos', 'talk.politics.misc', 'sci.crypt',\n",
       "       'comp.sys.ibm.pc.hardware', 'comp.sys.mac.hardware',\n",
       "       'sci.electronics', 'rec.sport.baseball', 'comp.graphics',\n",
       "       'comp.windows.x', 'sci.crypt', 'talk.politics.misc',\n",
       "       'talk.religion.misc', 'comp.sys.mac.hardware', 'comp.graphics',\n",
       "       'talk.politics.guns', 'comp.sys.ibm.pc.hardware', 'alt.atheism',\n",
       "       'comp.os.ms-windows.misc', 'talk.politics.guns', 'sci.space',\n",
       "       'talk.politics.mideast', 'comp.sys.ibm.pc.hardware',\n",
       "       'rec.sport.hockey', 'rec.motorcycles', 'sci.med', 'comp.windows.x',\n",
       "       'rec.autos', 'soc.religion.christian', 'comp.windows.x',\n",
       "       'rec.sport.baseball', 'sci.med', 'comp.graphics', 'rec.autos',\n",
       "       'soc.religion.christian', 'rec.motorcycles', 'sci.electronics',\n",
       "       'rec.sport.hockey', 'comp.sys.ibm.pc.hardware', 'sci.crypt',\n",
       "       'comp.sys.mac.hardware', 'sci.space', 'rec.sport.hockey',\n",
       "       'comp.windows.x', 'misc.forsale', 'talk.politics.misc',\n",
       "       'sci.electronics', 'alt.atheism', 'soc.religion.christian',\n",
       "       'alt.atheism', 'alt.atheism', 'rec.sport.hockey',\n",
       "       'soc.religion.christian', 'comp.graphics', 'comp.graphics',\n",
       "       'comp.os.ms-windows.misc', 'rec.sport.hockey', 'sci.med',\n",
       "       'alt.atheism', 'comp.sys.mac.hardware', 'talk.politics.guns',\n",
       "       'alt.atheism', 'alt.atheism', 'sci.electronics',\n",
       "       'comp.sys.mac.hardware', 'sci.space', 'comp.sys.ibm.pc.hardware',\n",
       "       'alt.atheism', 'sci.space', 'misc.forsale', 'sci.med', 'sci.med',\n",
       "       'alt.atheism', 'comp.os.ms-windows.misc', 'talk.politics.mideast',\n",
       "       'alt.atheism', 'comp.graphics', 'comp.sys.mac.hardware',\n",
       "       'soc.religion.christian', 'sci.space', 'talk.politics.guns',\n",
       "       'comp.windows.x', 'comp.sys.ibm.pc.hardware', 'talk.religion.misc',\n",
       "       'talk.politics.mideast', 'talk.politics.misc',\n",
       "       'comp.sys.mac.hardware', 'comp.windows.x', 'alt.atheism',\n",
       "       'talk.politics.guns', 'rec.sport.baseball', 'rec.autos',\n",
       "       'talk.religion.misc', 'sci.crypt', 'sci.med', 'rec.sport.baseball',\n",
       "       'alt.atheism', 'rec.sport.hockey', 'talk.politics.misc',\n",
       "       'sci.electronics', 'rec.sport.baseball', 'rec.sport.hockey',\n",
       "       'comp.graphics', 'soc.religion.christian',\n",
       "       'soc.religion.christian', 'talk.politics.misc',\n",
       "       'soc.religion.christian', 'alt.atheism', 'talk.politics.guns',\n",
       "       'comp.graphics', 'sci.crypt', 'rec.sport.baseball',\n",
       "       'comp.graphics', 'talk.religion.misc', 'misc.forsale',\n",
       "       'talk.politics.guns', 'rec.autos', 'comp.sys.mac.hardware',\n",
       "       'comp.windows.x', 'soc.religion.christian', 'comp.windows.x',\n",
       "       'comp.sys.ibm.pc.hardware', 'talk.politics.mideast',\n",
       "       'comp.os.ms-windows.misc', 'comp.graphics', 'sci.crypt',\n",
       "       'talk.politics.mideast', 'sci.space', 'comp.sys.ibm.pc.hardware',\n",
       "       'alt.atheism', 'rec.motorcycles', 'comp.windows.x',\n",
       "       'talk.politics.guns', 'comp.sys.ibm.pc.hardware', 'alt.atheism',\n",
       "       'soc.religion.christian', 'rec.sport.baseball', 'comp.graphics',\n",
       "       'comp.sys.mac.hardware', 'sci.space', 'talk.politics.guns',\n",
       "       'comp.graphics', 'comp.windows.x', 'talk.politics.mideast',\n",
       "       'talk.politics.mideast', 'sci.med', 'sci.crypt',\n",
       "       'talk.politics.misc', 'comp.sys.ibm.pc.hardware', 'rec.autos',\n",
       "       'rec.sport.hockey', 'misc.forsale', 'comp.sys.mac.hardware',\n",
       "       'talk.politics.mideast', 'sci.crypt', 'sci.crypt',\n",
       "       'comp.os.ms-windows.misc', 'soc.religion.christian',\n",
       "       'talk.politics.mideast', 'alt.atheism', 'talk.politics.misc',\n",
       "       'soc.religion.christian', 'soc.religion.christian',\n",
       "       'comp.sys.mac.hardware', 'talk.politics.mideast',\n",
       "       'talk.politics.misc', 'sci.space', 'sci.space', 'sci.electronics',\n",
       "       'comp.sys.mac.hardware', 'talk.politics.guns', 'comp.graphics',\n",
       "       'rec.autos', 'comp.graphics', 'sci.space', 'misc.forsale',\n",
       "       'soc.religion.christian', 'talk.politics.mideast',\n",
       "       'talk.politics.guns', 'comp.sys.mac.hardware', 'rec.autos',\n",
       "       'comp.windows.x', 'rec.sport.baseball', 'sci.electronics',\n",
       "       'talk.politics.mideast', 'sci.electronics', 'comp.windows.x'],\n",
       "      dtype='<U24')"
      ]
     },
     "execution_count": 17,
     "metadata": {},
     "output_type": "execute_result"
    }
   ],
   "source": [
    "\n",
    "from sklearn.naive_bayes import MultinomialNB\n",
    "from sklearn.metrics import accuracy_score, precision_score, recall_score, f1_score\n",
    "\n",
    "# Initialize the classifier\n",
    "nb_classifier = MultinomialNB()\n",
    "\n",
    "# Train the model\n",
    "nb_classifier.fit(x_train, y_train)\n",
    "\n",
    "# Make predictions\n",
    "y_pred = nb_classifier.predict(x_test)\n",
    "y_pred\n"
   ]
  },
  {
   "cell_type": "markdown",
   "id": "b48ec7e3-cc59-4ee0-8c9f-dbfac3a3a487",
   "metadata": {},
   "source": [
    "3. Sentiment Analysis"
   ]
  },
  {
   "cell_type": "code",
   "execution_count": 18,
   "id": "abb2bbea-85c3-4916-ac80-4e4940816e14",
   "metadata": {},
   "outputs": [
    {
     "name": "stdout",
     "output_type": "stream",
     "text": [
      "positive    1451\n",
      "negative     546\n",
      "neutral        3\n",
      "Name: sentiment, dtype: int64\n"
     ]
    }
   ],
   "source": [
    "from textblob import TextBlob\n",
    "\n",
    "# Function to get sentiment\n",
    "def get_sentiment(text):\n",
    "    analysis = TextBlob(text)\n",
    "    if analysis.sentiment.polarity > 0:\n",
    "        return 'positive'\n",
    "    elif analysis.sentiment.polarity == 0:\n",
    "        return 'neutral'\n",
    "    else:\n",
    "        return 'negative'\n",
    "\n",
    "# Apply sentiment analysis\n",
    "data['sentiment'] = data['cleaned_text'].apply(get_sentiment)\n",
    "\n",
    "# Display sentiment distribution\n",
    "print(data['sentiment'].value_counts())\n"
   ]
  },
  {
   "cell_type": "markdown",
   "id": "384dffbd-ce74-464c-956e-781e8ea5c8e4",
   "metadata": {},
   "source": [
    "4. Evaluation"
   ]
  },
  {
   "cell_type": "code",
   "execution_count": 19,
   "id": "495b989e-c1a6-4903-9950-f7f7aebe90ca",
   "metadata": {},
   "outputs": [
    {
     "name": "stdout",
     "output_type": "stream",
     "text": [
      "                          precision    recall  f1-score   support\n",
      "\n",
      "             alt.atheism       0.52      0.89      0.65        18\n",
      "           comp.graphics       0.62      0.83      0.71        18\n",
      " comp.os.ms-windows.misc       0.95      0.86      0.90        22\n",
      "comp.sys.ibm.pc.hardware       0.95      0.76      0.84        25\n",
      "   comp.sys.mac.hardware       0.87      0.95      0.91        21\n",
      "          comp.windows.x       1.00      0.80      0.89        25\n",
      "            misc.forsale       0.92      0.61      0.73        18\n",
      "               rec.autos       0.89      0.89      0.89        18\n",
      "         rec.motorcycles       0.88      0.88      0.88        16\n",
      "      rec.sport.baseball       0.80      0.89      0.84        18\n",
      "        rec.sport.hockey       0.83      1.00      0.91        15\n",
      "               sci.crypt       0.82      0.95      0.88        19\n",
      "         sci.electronics       0.68      0.81      0.74        16\n",
      "                 sci.med       0.94      0.88      0.91        17\n",
      "               sci.space       1.00      0.86      0.92        21\n",
      "  soc.religion.christian       0.85      0.96      0.90        23\n",
      "      talk.politics.guns       0.95      0.75      0.84        28\n",
      "   talk.politics.mideast       0.95      0.95      0.95        20\n",
      "      talk.politics.misc       0.57      0.89      0.70        18\n",
      "      talk.religion.misc       0.71      0.21      0.32        24\n",
      "\n",
      "                accuracy                           0.82       400\n",
      "               macro avg       0.84      0.83      0.82       400\n",
      "            weighted avg       0.84      0.82      0.81       400\n",
      "\n"
     ]
    }
   ],
   "source": [
    "# Calculate evaluation metrics\n",
    "from sklearn.metrics import classification_report\n",
    "print(classification_report(y_test,y_pred))\n"
   ]
  },
  {
   "cell_type": "markdown",
   "id": "36e8d23c-a29e-4e8c-bd5f-01cd442a2046",
   "metadata": {},
   "source": [
    "In conclusion,o sum up, the Naive Bayes classifier works well for categorizing blog posts when you preprocess and extract features correctly. Evaluating its performance with metrics like accuracy, precision, recall, and F1-score helps you understand how effective the model is. However, issues like class imbalance and text preprocessing need to be managed carefully to maintain good performance.\n",
    "\n",
    "Sentiment analysis helps you understand the emotional tone of the blog posts, which can be valuable for content strategy, reader engagement, and marketing.\n",
    "\n",
    "Combining text classification with sentiment analysis gives you a powerful tool for gaining and using insights from text data, improving your organization's analytical and strategic abilities."
   ]
  }
 ],
 "metadata": {
  "kernelspec": {
   "display_name": "Python 3 (ipykernel)",
   "language": "python",
   "name": "python3"
  },
  "language_info": {
   "codemirror_mode": {
    "name": "ipython",
    "version": 3
   },
   "file_extension": ".py",
   "mimetype": "text/x-python",
   "name": "python",
   "nbconvert_exporter": "python",
   "pygments_lexer": "ipython3",
   "version": "3.12.3"
  }
 },
 "nbformat": 4,
 "nbformat_minor": 5
}
