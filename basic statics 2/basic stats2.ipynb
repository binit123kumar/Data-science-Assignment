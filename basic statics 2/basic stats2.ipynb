{
 "cells": [
  {
   "cell_type": "raw",
   "id": "1313496d-f123-4048-a574-065d5a74dfb7",
   "metadata": {},
   "source": [
    "Data\n",
    "A total of 15 print-heads were randomly selected and tested until failure. The durability of each print-head (in millions of characters) was recorded as follows:\n",
    "1.13, 1.55, 1.43, 0.92, 1.25, 1.36, 1.32, 0.85, 1.07, 1.48, 1.20, 1.33, 1.18, 1.22, 1.29\n"
   ]
  },
  {
   "cell_type": "raw",
   "id": "70a68e3d-d4f9-4862-9271-093c7ce8903d",
   "metadata": {},
   "source": [
    "Assignment Tasks\n",
    "a. Build 99% Confidence Interval Using Sample Standard Deviation\n",
    "Assuming the sample is representative of the population, construct a 99% confidence interval for the mean number of characters printed before the print-head fails using the sample standard deviation. Explain the steps you take and the rationale behind using the t-distribution for this task.\n"
   ]
  },
  {
   "cell_type": "code",
   "execution_count": 29,
   "id": "58c93b9a-7119-4723-8d62-e29d4be40ea0",
   "metadata": {},
   "outputs": [],
   "source": [
    "# Import the NumPy library for numerical operations\n",
    "import numpy as np\n",
    "# Import the stats module from SciPy for statistical functions\n",
    "from scipy import stats\n"
   ]
  },
  {
   "cell_type": "code",
   "execution_count": 12,
   "id": "0e2075cd-6b25-4dfe-b6d5-24e95c0eb876",
   "metadata": {},
   "outputs": [
    {
     "data": {
      "text/plain": [
       "[1.13,\n",
       " 1.55,\n",
       " 1.43,\n",
       " 0.92,\n",
       " 1.25,\n",
       " 1.36,\n",
       " 1.32,\n",
       " 0.85,\n",
       " 1.07,\n",
       " 1.48,\n",
       " 1.2,\n",
       " 1.33,\n",
       " 1.18,\n",
       " 1.22,\n",
       " 1.29]"
      ]
     },
     "execution_count": 12,
     "metadata": {},
     "output_type": "execute_result"
    }
   ],
   "source": [
    "# Sample data\n",
    "data = [1.13, 1.55, 1.43, 0.92, 1.25, 1.36, 1.32, 0.85, 1.07, 1.48, 1.20, 1.33, 1.18, 1.22, 1.29]\n",
    "data"
   ]
  },
  {
   "cell_type": "code",
   "execution_count": 20,
   "id": "b6c9c717-9130-476c-9aa6-25fcb0a31a99",
   "metadata": {},
   "outputs": [
    {
     "data": {
      "text/plain": [
       "15"
      ]
     },
     "execution_count": 20,
     "metadata": {},
     "output_type": "execute_result"
    }
   ],
   "source": [
    "# Calculate the number of data points\n",
    "length_data= len(data)\n",
    "length_data"
   ]
  },
  {
   "cell_type": "code",
   "execution_count": 21,
   "id": "1bd02516-c8c7-4254-86ef-5f33e85a716e",
   "metadata": {},
   "outputs": [
    {
     "data": {
      "text/plain": [
       "1.2386666666666666"
      ]
     },
     "execution_count": 21,
     "metadata": {},
     "output_type": "execute_result"
    }
   ],
   "source": [
    "# Calculate the mean of the data\n",
    "mean = np.mean(data)\n",
    "mean"
   ]
  },
  {
   "cell_type": "code",
   "execution_count": 15,
   "id": "2f8ceff3-4979-4528-b190-75a809f5aca9",
   "metadata": {},
   "outputs": [
    {
     "data": {
      "text/plain": [
       "0.19316412956959936"
      ]
     },
     "execution_count": 15,
     "metadata": {},
     "output_type": "execute_result"
    }
   ],
   "source": [
    "# Calculate the sample standard deviation (ddof=1 for sample standard deviation)\n",
    "std_dev = np.std(data, ddof=1)\n",
    "std_dev"
   ]
  },
  {
   "cell_type": "code",
   "execution_count": 23,
   "id": "f41801f3-f2e9-488d-8fcf-f856e3f55173",
   "metadata": {},
   "outputs": [
    {
     "data": {
      "text/plain": [
       "14"
      ]
     },
     "execution_count": 23,
     "metadata": {},
     "output_type": "execute_result"
    }
   ],
   "source": [
    "df = length_data - 1\n",
    "df"
   ]
  },
  {
   "cell_type": "code",
   "execution_count": 17,
   "id": "d83036f7-0331-49d1-b151-b67f5a6c4913",
   "metadata": {},
   "outputs": [
    {
     "data": {
      "text/plain": [
       "2.976842734370834"
      ]
     },
     "execution_count": 17,
     "metadata": {},
     "output_type": "execute_result"
    }
   ],
   "source": [
    "# Confidence level\n",
    "confidence = 0.\n",
    "# Calculate the critical value of t for the given confidence level and degrees of freedom\n",
    "t_critical = stats.t.ppf((1 + confidence) / 2, df)\n",
    "t_critical"
   ]
  },
  {
   "cell_type": "code",
   "execution_count": 8,
   "id": "74ea8775-5e4f-4a67-804f-52da1f959360",
   "metadata": {},
   "outputs": [],
   "source": [
    "# Calculate the margin of error\n",
    "margin_of_error = t_critical * (std_dev / np.sqrt(n))\n",
    "margin_of_error"
   ]
  },
  {
   "cell_type": "code",
   "execution_count": 18,
   "id": "3863e2ee-6aa4-47c2-8be9-14bfe25f7fcc",
   "metadata": {},
   "outputs": [
    {
     "data": {
      "text/plain": [
       "(1.0901973384384906, 1.3871359948948425)"
      ]
     },
     "execution_count": 18,
     "metadata": {},
     "output_type": "execute_result"
    }
   ],
   "source": [
    "# Compute the confidence interval\n",
    "confidence_interval = (mean - margin_of_error, mean + margin_of_error)\n",
    "confidence_interval"
   ]
  },
  {
   "cell_type": "code",
   "execution_count": 24,
   "id": "0306c8a6-e889-461b-b3c8-0a9583ab1383",
   "metadata": {},
   "outputs": [
    {
     "name": "stdout",
     "output_type": "stream",
     "text": [
      "Sample Mean: 1.24\n",
      "Sample Standard Deviation: 0.19\n",
      "Critical Value (t): 2.98\n",
      "Margin of Error: 0.15\n",
      "99% Confidence Interval: (1.0901973384384906, 1.3871359948948425)\n"
     ]
    }
   ],
   "source": [
    "print(f\"Sample Mean: {mean:.2f}\")\n",
    "print(f\"Sample Standard Deviation: {std_dev:.2f}\")\n",
    "print(f\"Critical Value (t): {t_critical:.2f}\")\n",
    "print(f\"Margin of Error: {margin_of_error:.2f}\")\n",
    "print(f\"99% Confidence Interval: {confidence_interval}\")\n"
   ]
  },
  {
   "cell_type": "raw",
   "id": "3b2d0ef8-b053-4e32-895c-031469b763c0",
   "metadata": {},
   "source": [
    "b. Build 99% Confidence Interval Using Known Population Standard Deviation\n",
    "If it were known that the population standard deviation is 0.2 million characters, construct a 99% confidence interval for the mean number of characters printed before failure.\n"
   ]
  },
  {
   "cell_type": "code",
   "execution_count": 25,
   "id": "d5546973-9816-49e2-b79b-6283b0318a07",
   "metadata": {},
   "outputs": [],
   "source": [
    "# Known population standard deviation\n",
    "population_std_dev = 0.2\n"
   ]
  },
  {
   "cell_type": "code",
   "execution_count": 26,
   "id": "8010d942-3620-401e-afca-8e255ec90eaf",
   "metadata": {},
   "outputs": [],
   "source": [
    "# Confidence level\n",
    "confidence = 0.99"
   ]
  },
  {
   "cell_type": "code",
   "execution_count": 27,
   "id": "7a8d2916-e6c8-488a-a530-cf06302f0903",
   "metadata": {},
   "outputs": [],
   "source": [
    "# Calculate the critical z-value for the given confidence level\n",
    "# For a 99% confidence level, the z-value corresponds to the 99.5th percentile of the standard normal distribution\n",
    "z_critical = stats.norm.ppf((1 + confidence) / 2)\n"
   ]
  },
  {
   "cell_type": "code",
   "execution_count": null,
   "id": "24ff7f2e-d82b-4f9a-bb50-7eea063003d2",
   "metadata": {},
   "outputs": [],
   "source": [
    "# Calculate the margin of error\n",
    "# The margin of error is z_critical * (population_std_dev / sqrt(n))\n",
    "margin_of_error = z_critical * (population_std_dev / np.sqrt(n))\n"
   ]
  },
  {
   "cell_type": "code",
   "execution_count": 32,
   "id": "508f891c-aa45-4931-b15d-13248609202e",
   "metadata": {},
   "outputs": [
    {
     "data": {
      "text/plain": [
       "(1.0901973384384906, 1.3871359948948425)"
      ]
     },
     "execution_count": 32,
     "metadata": {},
     "output_type": "execute_result"
    }
   ],
   "source": [
    " #Compute the confidence interval\n",
    "# The confidence interval is (mean - margin_of_error, mean + margin_of_error)\n",
    "confidence_interval = (mean - margin_of_error, mean + margin_of_error)\n",
    "confidence_interval"
   ]
  },
  {
   "cell_type": "code",
   "execution_count": 28,
   "id": "df725fd5-54ff-4f9b-a9dc-39239d63c12b",
   "metadata": {},
   "outputs": [
    {
     "name": "stdout",
     "output_type": "stream",
     "text": [
      "Sample Mean: 1.2386666666666666\n",
      "Population Standard Deviation: 0.2\n",
      "Critical z-value: 2.5758293035489004\n",
      "Margin of Error: 0.14846932822817596\n",
      "99% Confidence Interval: (1.0901973384384906, 1.3871359948948425)\n"
     ]
    }
   ],
   "source": [
    "# Output the results\n",
    "print(\"Sample Mean:\", mean)\n",
    "print(\"Population Standard Deviation:\", population_std_dev)\n",
    "print(\"Critical z-value:\", z_critical)\n",
    "print(\"Margin of Error:\", margin_of_error)\n",
    "print(\"99% Confidence Interval:\", confidence_interval)"
   ]
  },
  {
   "cell_type": "code",
   "execution_count": null,
   "id": "57fb12b7-99dc-4f92-86d7-8ce95d297e8d",
   "metadata": {},
   "outputs": [],
   "source": []
  },
  {
   "cell_type": "code",
   "execution_count": null,
   "id": "9adfd3d4-3365-4714-b44f-4328a445e5de",
   "metadata": {},
   "outputs": [],
   "source": []
  },
  {
   "cell_type": "code",
   "execution_count": null,
   "id": "2e8e5c93-3310-4a24-abda-bae32a440073",
   "metadata": {},
   "outputs": [],
   "source": []
  },
  {
   "cell_type": "code",
   "execution_count": null,
   "id": "49f08f8c-7321-49a5-a4d6-15e08e2781fa",
   "metadata": {},
   "outputs": [],
   "source": []
  },
  {
   "cell_type": "code",
   "execution_count": null,
   "id": "e470f9e4-1d7f-456d-94a1-8ad6c639ee1f",
   "metadata": {},
   "outputs": [],
   "source": []
  },
  {
   "cell_type": "code",
   "execution_count": null,
   "id": "db42acd7-1393-4ffb-b313-e86c49cf140b",
   "metadata": {},
   "outputs": [],
   "source": []
  }
 ],
 "metadata": {
  "kernelspec": {
   "display_name": "Python 3 (ipykernel)",
   "language": "python",
   "name": "python3"
  },
  "language_info": {
   "codemirror_mode": {
    "name": "ipython",
    "version": 3
   },
   "file_extension": ".py",
   "mimetype": "text/x-python",
   "name": "python",
   "nbconvert_exporter": "python",
   "pygments_lexer": "ipython3",
   "version": "3.12.3"
  }
 },
 "nbformat": 4,
 "nbformat_minor": 5
}
