{
 "cells": [
  {
   "cell_type": "markdown",
   "id": "e4998d49-c7dd-485d-9526-9af7c22badf9",
   "metadata": {},
   "source": [
    "1. Exploratory Data Analysis (EDA):"
   ]
  },
  {
   "cell_type": "code",
   "execution_count": 1,
   "id": "8cefbb09-1cee-402b-8570-33d9c9267fc5",
   "metadata": {},
   "outputs": [
    {
     "data": {
      "text/html": [
       "<div>\n",
       "<style scoped>\n",
       "    .dataframe tbody tr th:only-of-type {\n",
       "        vertical-align: middle;\n",
       "    }\n",
       "\n",
       "    .dataframe tbody tr th {\n",
       "        vertical-align: top;\n",
       "    }\n",
       "\n",
       "    .dataframe thead th {\n",
       "        text-align: right;\n",
       "    }\n",
       "</style>\n",
       "<table border=\"1\" class=\"dataframe\">\n",
       "  <thead>\n",
       "    <tr style=\"text-align: right;\">\n",
       "      <th></th>\n",
       "      <th>Prepare a model for glass classification using Random Forest</th>\n",
       "    </tr>\n",
       "  </thead>\n",
       "  <tbody>\n",
       "    <tr>\n",
       "      <th>0</th>\n",
       "      <td>Data Description:</td>\n",
       "    </tr>\n",
       "    <tr>\n",
       "      <th>1</th>\n",
       "      <td>RI : refractive index</td>\n",
       "    </tr>\n",
       "    <tr>\n",
       "      <th>2</th>\n",
       "      <td>Na: Sodium (unit measurement: weight percent i...</td>\n",
       "    </tr>\n",
       "    <tr>\n",
       "      <th>3</th>\n",
       "      <td>Mg: Magnesium</td>\n",
       "    </tr>\n",
       "    <tr>\n",
       "      <th>4</th>\n",
       "      <td>AI: Aluminum</td>\n",
       "    </tr>\n",
       "    <tr>\n",
       "      <th>5</th>\n",
       "      <td>Si: Silicon</td>\n",
       "    </tr>\n",
       "    <tr>\n",
       "      <th>6</th>\n",
       "      <td>K:Potassium</td>\n",
       "    </tr>\n",
       "    <tr>\n",
       "      <th>7</th>\n",
       "      <td>Ca: Calcium</td>\n",
       "    </tr>\n",
       "    <tr>\n",
       "      <th>8</th>\n",
       "      <td>Ba: Barium</td>\n",
       "    </tr>\n",
       "    <tr>\n",
       "      <th>9</th>\n",
       "      <td>Fe: Iron</td>\n",
       "    </tr>\n",
       "    <tr>\n",
       "      <th>10</th>\n",
       "      <td>Type: Type of glass: (class attribute)</td>\n",
       "    </tr>\n",
       "    <tr>\n",
       "      <th>11</th>\n",
       "      <td>1 -- building_windows_float_processed</td>\n",
       "    </tr>\n",
       "    <tr>\n",
       "      <th>12</th>\n",
       "      <td>2 --building_windows_non_float_processed</td>\n",
       "    </tr>\n",
       "    <tr>\n",
       "      <th>13</th>\n",
       "      <td>3 --vehicle_windows_float_processed</td>\n",
       "    </tr>\n",
       "    <tr>\n",
       "      <th>14</th>\n",
       "      <td>4 --vehicle_windows_non_float_processed (none...</td>\n",
       "    </tr>\n",
       "    <tr>\n",
       "      <th>15</th>\n",
       "      <td>5 --containers</td>\n",
       "    </tr>\n",
       "    <tr>\n",
       "      <th>16</th>\n",
       "      <td>6 --tableware</td>\n",
       "    </tr>\n",
       "    <tr>\n",
       "      <th>17</th>\n",
       "      <td>7 --headlamps</td>\n",
       "    </tr>\n",
       "  </tbody>\n",
       "</table>\n",
       "</div>"
      ],
      "text/plain": [
       "   Prepare a model for glass classification using Random Forest\n",
       "0                                   Data Description:          \n",
       "1                               RI : refractive index          \n",
       "2   Na: Sodium (unit measurement: weight percent i...          \n",
       "3                                       Mg: Magnesium          \n",
       "4                                        AI: Aluminum          \n",
       "5                                         Si: Silicon          \n",
       "6                                         K:Potassium          \n",
       "7                                         Ca: Calcium          \n",
       "8                                          Ba: Barium          \n",
       "9                                            Fe: Iron          \n",
       "10             Type: Type of glass: (class attribute)          \n",
       "11              1 -- building_windows_float_processed          \n",
       "12           2 --building_windows_non_float_processed          \n",
       "13                3 --vehicle_windows_float_processed          \n",
       "14   4 --vehicle_windows_non_float_processed (none...          \n",
       "15                                     5 --containers          \n",
       "16                                      6 --tableware          \n",
       "17                                      7 --headlamps          "
      ]
     },
     "execution_count": 1,
     "metadata": {},
     "output_type": "execute_result"
    }
   ],
   "source": [
    "import pandas as pd \n",
    "data=pd.read_csv('glass.csv')\n",
    "data"
   ]
  },
  {
   "cell_type": "code",
   "execution_count": 2,
   "id": "ae78df8a-adaf-435b-90cf-bab1d9c8520a",
   "metadata": {},
   "outputs": [
    {
     "data": {
      "text/plain": [
       "((18, 1),\n",
       " Index(['Prepare a model for glass classification using Random Forest'], dtype='object'))"
      ]
     },
     "execution_count": 2,
     "metadata": {},
     "output_type": "execute_result"
    }
   ],
   "source": [
    "data.shape,data.columns"
   ]
  },
  {
   "cell_type": "code",
   "execution_count": 3,
   "id": "3eac4a67-e644-4b27-add8-606e9f695710",
   "metadata": {},
   "outputs": [
    {
     "name": "stdout",
     "output_type": "stream",
     "text": [
      "<class 'pandas.core.frame.DataFrame'>\n",
      "RangeIndex: 18 entries, 0 to 17\n",
      "Data columns (total 1 columns):\n",
      " #   Column                                                        Non-Null Count  Dtype \n",
      "---  ------                                                        --------------  ----- \n",
      " 0   Prepare a model for glass classification using Random Forest  18 non-null     object\n",
      "dtypes: object(1)\n",
      "memory usage: 276.0+ bytes\n"
     ]
    }
   ],
   "source": [
    "data.info()"
   ]
  },
  {
   "cell_type": "code",
   "execution_count": 4,
   "id": "dc03d9dc-ebf5-49f0-a7ae-57f9ef5b7287",
   "metadata": {},
   "outputs": [
    {
     "data": {
      "text/html": [
       "<div>\n",
       "<style scoped>\n",
       "    .dataframe tbody tr th:only-of-type {\n",
       "        vertical-align: middle;\n",
       "    }\n",
       "\n",
       "    .dataframe tbody tr th {\n",
       "        vertical-align: top;\n",
       "    }\n",
       "\n",
       "    .dataframe thead th {\n",
       "        text-align: right;\n",
       "    }\n",
       "</style>\n",
       "<table border=\"1\" class=\"dataframe\">\n",
       "  <thead>\n",
       "    <tr style=\"text-align: right;\">\n",
       "      <th></th>\n",
       "      <th>Prepare a model for glass classification using Random Forest</th>\n",
       "    </tr>\n",
       "  </thead>\n",
       "  <tbody>\n",
       "    <tr>\n",
       "      <th>0</th>\n",
       "      <td>Data Description:</td>\n",
       "    </tr>\n",
       "    <tr>\n",
       "      <th>1</th>\n",
       "      <td>RI : refractive index</td>\n",
       "    </tr>\n",
       "    <tr>\n",
       "      <th>2</th>\n",
       "      <td>Na: Sodium (unit measurement: weight percent i...</td>\n",
       "    </tr>\n",
       "    <tr>\n",
       "      <th>3</th>\n",
       "      <td>Mg: Magnesium</td>\n",
       "    </tr>\n",
       "    <tr>\n",
       "      <th>4</th>\n",
       "      <td>AI: Aluminum</td>\n",
       "    </tr>\n",
       "    <tr>\n",
       "      <th>5</th>\n",
       "      <td>Si: Silicon</td>\n",
       "    </tr>\n",
       "    <tr>\n",
       "      <th>6</th>\n",
       "      <td>K:Potassium</td>\n",
       "    </tr>\n",
       "    <tr>\n",
       "      <th>7</th>\n",
       "      <td>Ca: Calcium</td>\n",
       "    </tr>\n",
       "    <tr>\n",
       "      <th>8</th>\n",
       "      <td>Ba: Barium</td>\n",
       "    </tr>\n",
       "    <tr>\n",
       "      <th>9</th>\n",
       "      <td>Fe: Iron</td>\n",
       "    </tr>\n",
       "    <tr>\n",
       "      <th>10</th>\n",
       "      <td>Type: Type of glass: (class attribute)</td>\n",
       "    </tr>\n",
       "    <tr>\n",
       "      <th>11</th>\n",
       "      <td>1 -- building_windows_float_processed</td>\n",
       "    </tr>\n",
       "    <tr>\n",
       "      <th>12</th>\n",
       "      <td>2 --building_windows_non_float_processed</td>\n",
       "    </tr>\n",
       "    <tr>\n",
       "      <th>13</th>\n",
       "      <td>3 --vehicle_windows_float_processed</td>\n",
       "    </tr>\n",
       "    <tr>\n",
       "      <th>14</th>\n",
       "      <td>4 --vehicle_windows_non_float_processed (none...</td>\n",
       "    </tr>\n",
       "    <tr>\n",
       "      <th>15</th>\n",
       "      <td>5 --containers</td>\n",
       "    </tr>\n",
       "    <tr>\n",
       "      <th>16</th>\n",
       "      <td>6 --tableware</td>\n",
       "    </tr>\n",
       "    <tr>\n",
       "      <th>17</th>\n",
       "      <td>7 --headlamps</td>\n",
       "    </tr>\n",
       "  </tbody>\n",
       "</table>\n",
       "</div>"
      ],
      "text/plain": [
       "   Prepare a model for glass classification using Random Forest\n",
       "0                                   Data Description:          \n",
       "1                               RI : refractive index          \n",
       "2   Na: Sodium (unit measurement: weight percent i...          \n",
       "3                                       Mg: Magnesium          \n",
       "4                                        AI: Aluminum          \n",
       "5                                         Si: Silicon          \n",
       "6                                         K:Potassium          \n",
       "7                                         Ca: Calcium          \n",
       "8                                          Ba: Barium          \n",
       "9                                            Fe: Iron          \n",
       "10             Type: Type of glass: (class attribute)          \n",
       "11              1 -- building_windows_float_processed          \n",
       "12           2 --building_windows_non_float_processed          \n",
       "13                3 --vehicle_windows_float_processed          \n",
       "14   4 --vehicle_windows_non_float_processed (none...          \n",
       "15                                     5 --containers          \n",
       "16                                      6 --tableware          \n",
       "17                                      7 --headlamps          "
      ]
     },
     "execution_count": 4,
     "metadata": {},
     "output_type": "execute_result"
    }
   ],
   "source": [
    "\n",
    "# Remove rows with NaN values\n",
    "data = data.dropna()\n",
    "\n",
    "# Write the cleaned DataFrame back to a new CSV file\n",
    "data.to_csv('cleaned_file.csv', index=False)\n",
    "data"
   ]
  },
  {
   "cell_type": "code",
   "execution_count": 5,
   "id": "af53c0da-0df6-4969-96dd-1277aa11ef8e",
   "metadata": {},
   "outputs": [
    {
     "data": {
      "text/plain": [
       "Prepare a model for glass classification using Random Forest    0\n",
       "dtype: int64"
      ]
     },
     "execution_count": 5,
     "metadata": {},
     "output_type": "execute_result"
    }
   ],
   "source": [
    "data.isnull().sum()"
   ]
  },
  {
   "cell_type": "code",
   "execution_count": 6,
   "id": "e0068f8d-5e19-4cc7-b911-88a486d8e121",
   "metadata": {},
   "outputs": [
    {
     "data": {
      "text/html": [
       "<div>\n",
       "<style scoped>\n",
       "    .dataframe tbody tr th:only-of-type {\n",
       "        vertical-align: middle;\n",
       "    }\n",
       "\n",
       "    .dataframe tbody tr th {\n",
       "        vertical-align: top;\n",
       "    }\n",
       "\n",
       "    .dataframe thead th {\n",
       "        text-align: right;\n",
       "    }\n",
       "</style>\n",
       "<table border=\"1\" class=\"dataframe\">\n",
       "  <thead>\n",
       "    <tr style=\"text-align: right;\">\n",
       "      <th></th>\n",
       "      <th>Prepare a model for glass classification using Random Forest</th>\n",
       "    </tr>\n",
       "  </thead>\n",
       "  <tbody>\n",
       "  </tbody>\n",
       "</table>\n",
       "</div>"
      ],
      "text/plain": [
       "Empty DataFrame\n",
       "Columns: [Prepare a model for glass classification using Random Forest]\n",
       "Index: []"
      ]
     },
     "execution_count": 6,
     "metadata": {},
     "output_type": "execute_result"
    }
   ],
   "source": [
    "data[data.duplicated()]"
   ]
  },
  {
   "cell_type": "code",
   "execution_count": 7,
   "id": "8ba2bef2-20d4-400d-9cb2-b8e98c872273",
   "metadata": {},
   "outputs": [
    {
     "data": {
      "text/html": [
       "<div>\n",
       "<style scoped>\n",
       "    .dataframe tbody tr th:only-of-type {\n",
       "        vertical-align: middle;\n",
       "    }\n",
       "\n",
       "    .dataframe tbody tr th {\n",
       "        vertical-align: top;\n",
       "    }\n",
       "\n",
       "    .dataframe thead th {\n",
       "        text-align: right;\n",
       "    }\n",
       "</style>\n",
       "<table border=\"1\" class=\"dataframe\">\n",
       "  <thead>\n",
       "    <tr style=\"text-align: right;\">\n",
       "      <th></th>\n",
       "      <th>Prepare a model for glass classification using Random Forest</th>\n",
       "    </tr>\n",
       "  </thead>\n",
       "  <tbody>\n",
       "    <tr>\n",
       "      <th>0</th>\n",
       "      <td>Data Description:</td>\n",
       "    </tr>\n",
       "    <tr>\n",
       "      <th>1</th>\n",
       "      <td>RI : refractive index</td>\n",
       "    </tr>\n",
       "    <tr>\n",
       "      <th>2</th>\n",
       "      <td>Na: Sodium (unit measurement: weight percent i...</td>\n",
       "    </tr>\n",
       "    <tr>\n",
       "      <th>3</th>\n",
       "      <td>Mg: Magnesium</td>\n",
       "    </tr>\n",
       "    <tr>\n",
       "      <th>4</th>\n",
       "      <td>AI: Aluminum</td>\n",
       "    </tr>\n",
       "    <tr>\n",
       "      <th>5</th>\n",
       "      <td>Si: Silicon</td>\n",
       "    </tr>\n",
       "    <tr>\n",
       "      <th>6</th>\n",
       "      <td>K:Potassium</td>\n",
       "    </tr>\n",
       "    <tr>\n",
       "      <th>7</th>\n",
       "      <td>Ca: Calcium</td>\n",
       "    </tr>\n",
       "    <tr>\n",
       "      <th>8</th>\n",
       "      <td>Ba: Barium</td>\n",
       "    </tr>\n",
       "    <tr>\n",
       "      <th>9</th>\n",
       "      <td>Fe: Iron</td>\n",
       "    </tr>\n",
       "    <tr>\n",
       "      <th>10</th>\n",
       "      <td>Type: Type of glass: (class attribute)</td>\n",
       "    </tr>\n",
       "    <tr>\n",
       "      <th>11</th>\n",
       "      <td>1 -- building_windows_float_processed</td>\n",
       "    </tr>\n",
       "    <tr>\n",
       "      <th>12</th>\n",
       "      <td>2 --building_windows_non_float_processed</td>\n",
       "    </tr>\n",
       "    <tr>\n",
       "      <th>13</th>\n",
       "      <td>3 --vehicle_windows_float_processed</td>\n",
       "    </tr>\n",
       "    <tr>\n",
       "      <th>14</th>\n",
       "      <td>4 --vehicle_windows_non_float_processed (none...</td>\n",
       "    </tr>\n",
       "    <tr>\n",
       "      <th>15</th>\n",
       "      <td>5 --containers</td>\n",
       "    </tr>\n",
       "    <tr>\n",
       "      <th>16</th>\n",
       "      <td>6 --tableware</td>\n",
       "    </tr>\n",
       "    <tr>\n",
       "      <th>17</th>\n",
       "      <td>7 --headlamps</td>\n",
       "    </tr>\n",
       "  </tbody>\n",
       "</table>\n",
       "</div>"
      ],
      "text/plain": [
       "   Prepare a model for glass classification using Random Forest\n",
       "0                                   Data Description:          \n",
       "1                               RI : refractive index          \n",
       "2   Na: Sodium (unit measurement: weight percent i...          \n",
       "3                                       Mg: Magnesium          \n",
       "4                                        AI: Aluminum          \n",
       "5                                         Si: Silicon          \n",
       "6                                         K:Potassium          \n",
       "7                                         Ca: Calcium          \n",
       "8                                          Ba: Barium          \n",
       "9                                            Fe: Iron          \n",
       "10             Type: Type of glass: (class attribute)          \n",
       "11              1 -- building_windows_float_processed          \n",
       "12           2 --building_windows_non_float_processed          \n",
       "13                3 --vehicle_windows_float_processed          \n",
       "14   4 --vehicle_windows_non_float_processed (none...          \n",
       "15                                     5 --containers          \n",
       "16                                      6 --tableware          \n",
       "17                                      7 --headlamps          "
      ]
     },
     "execution_count": 7,
     "metadata": {},
     "output_type": "execute_result"
    }
   ],
   "source": [
    "data.drop_duplicates()"
   ]
  },
  {
   "cell_type": "markdown",
   "id": "db4a369b-3501-4c3b-90c2-f39a53fdff54",
   "metadata": {},
   "source": [
    "2: Data Visualization:"
   ]
  },
  {
   "cell_type": "code",
   "execution_count": 8,
   "id": "08eb6385-cafe-4327-b884-6005b66432fb",
   "metadata": {},
   "outputs": [
    {
     "data": {
      "image/png": "[encoded data removed]",
      "text/plain": [
       "<Figure size 640x480 with 1 Axes>"
      ]
     },
     "metadata": {},
     "output_type": "display_data"
    }
   ],
   "source": [
    "import matplotlib.pyplot as plt\n",
    "plt.hist(data)\n",
    "plt.show()"
   ]
  },
  {
   "cell_type": "code",
   "execution_count": null,
   "id": "0636bb25-84b7-482f-82db-ac46154b52a0",
   "metadata": {},
   "outputs": [],
   "source": []
  },
  {
   "cell_type": "code",
   "execution_count": null,
   "id": "96c1440a-3f40-4873-8a0d-580d009a8027",
   "metadata": {},
   "outputs": [],
   "source": []
  },
  {
   "cell_type": "code",
   "execution_count": null,
   "id": "8f9cddaf-4920-4fe3-ba59-6072676d079d",
   "metadata": {},
   "outputs": [],
   "source": []
  },
  {
   "cell_type": "code",
   "execution_count": null,
   "id": "0d37ff7d-71e4-4a82-98fe-848411fb2a7d",
   "metadata": {},
   "outputs": [],
   "source": []
  },
  {
   "cell_type": "code",
   "execution_count": null,
   "id": "4fb13881-369e-431e-ba69-9e1c3b35a949",
   "metadata": {},
   "outputs": [],
   "source": []
  },
  {
   "cell_type": "code",
   "execution_count": null,
   "id": "af6dd5af-01b9-448c-8718-f86662a2c9e9",
   "metadata": {},
   "outputs": [],
   "source": []
  },
  {
   "cell_type": "code",
   "execution_count": null,
   "id": "452d8ee6-c93f-4c09-8d8d-df22d9295236",
   "metadata": {},
   "outputs": [],
   "source": [
    "import seaborn as sns\n",
    "sns.pairplot(data)"
   ]
  },
  {
   "cell_type": "code",
   "execution_count": null,
   "id": "a88619f7-c361-40b2-9f1a-861f6718f134",
   "metadata": {},
   "outputs": [],
   "source": [
    "data.corr()"
   ]
  },
  {
   "cell_type": "markdown",
   "id": "413001df-4129-494c-9097-77b51bbd1798",
   "metadata": {},
   "source": [
    "3.Data Preprocessing"
   ]
  },
  {
   "cell_type": "code",
   "execution_count": null,
   "id": "41772720-03fa-4194-ba99-c40ece9b2484",
   "metadata": {},
   "outputs": [],
   "source": [
    "from sklearn.preprocessing import LabelEncoder\n",
    "label_encoders = {}\n",
    "for column in data.select_dtypes(include=['object']).columns:\n",
    "    label_encoders[column] = LabelEncoder()\n",
    "    data[column] = label_encoders[column].fit_transform(data[column])\n",
    "data"
   ]
  },
  {
   "cell_type": "code",
   "execution_count": null,
   "id": "233de1c5-77ed-4316-a346-e8ef4e0ffafd",
   "metadata": {},
   "outputs": [],
   "source": [
    "x=data.iloc[:,:-1]\n",
    "y=data.iloc[:,-1]\n",
    "x,y"
   ]
  },
  {
   "cell_type": "code",
   "execution_count": null,
   "id": "0e49623a-cbd7-416b-b9f1-ebb0d365e8da",
   "metadata": {},
   "outputs": [],
   "source": [
    "from sklearn.model_selection import train_test_split\n",
    "x_train,x_test,y_train,y_test=train_test_split(x,y,train_size=0.8,random_state=42)\n",
    "x_train.shape,y_train.shape"
   ]
  },
  {
   "cell_type": "code",
   "execution_count": null,
   "id": "dc550aee-1323-4f42-a9fb-3b52f4baa963",
   "metadata": {},
   "outputs": [],
   "source": [
    "# standardization\n",
    "from sklearn.preprocessing import StandardScaler\n",
    "scaler=StandardScaler()\n",
    "x_train=scaler.fit_transform(x_train)\n",
    "x_test=scaler.fit_transform(x_test)\n",
    "x_train,y_train"
   ]
  },
  {
   "cell_type": "code",
   "execution_count": null,
   "id": "3dfd8611-89f9-4181-bf42-a7bf8da495dc",
   "metadata": {},
   "outputs": [],
   "source": [
    "print(x_train)\n",
    "print(x_test)\n",
    "print(x_train.dtypes)\n",
    "print(x_test.dtypes)\n",
    "from sklearn.preprocessing import StandardScaler\n",
    "\n",
    "scaler = StandardScaler()\n",
    "x_train = scaler.fit_transform(x_train)\n",
    "x_test = scaler.transform(x_test)\n",
    "import numpy as np\n",
    "\n",
    "print(np.isnan(x_train).any())\n",
    "print(np.isnan(x_test).any())\n",
    "#pip install --upgrade scikit-learn\n",
    "from sklearn.preprocessing import StandardScaler\n",
    "\n",
    "# Initialize the scaler\n",
    "scaler = StandardScaler()\n",
    "\n",
    "# Fit the scaler on the training data and transform both the training and test data\n",
    "x_train = scaler.fit_transform(x_train)\n",
    "x_test = scaler.transform(x_test)\n",
    "\n",
    "# Ensure y_train is properly set\n",
    "print(x_train, y_train)\n"
   ]
  },
  {
   "cell_type": "markdown",
   "id": "0c3a9833-2432-4a05-ae8a-863714f0199c",
   "metadata": {},
   "source": [
    "4: Random Forest Model Implementation"
   ]
  },
  {
   "cell_type": "code",
   "execution_count": null,
   "id": "788d1ce2-282d-416f-ad9e-97bfc4f3d17e",
   "metadata": {},
   "outputs": [],
   "source": [
    "from sklearn.ensemble import RandomForestClassifier,AdaBoostClassifier\n",
    "clf=RandomForestClassifier(n_estimators=100, random_state=42)\n",
    "clf.fit(x_train,y_train)\n"
   ]
  },
  {
   "cell_type": "code",
   "execution_count": null,
   "id": "42ff20d0-dbc8-4cd0-b5d8-efef7ea5e5b2",
   "metadata": {},
   "outputs": [],
   "source": [
    "# Predict the labels of the test set\n",
    "y_pred = clf.predict(x_train)\n",
    "y_pred"
   ]
  },
  {
   "cell_type": "code",
   "execution_count": null,
   "id": "37cfc567-a061-48ee-b764-ac7ab39148a8",
   "metadata": {},
   "outputs": [],
   "source": [
    "from sklearn.metrics import accuracy_score\n",
    "accuracy = accuracy_score(y_test, clf.predict(x_test))\n",
    "print(\"Accuracy:\", accuracy)"
   ]
  },
  {
   "cell_type": "code",
   "execution_count": null,
   "id": "0d7cc28e-d406-403b-a274-b925c330f9d0",
   "metadata": {},
   "outputs": [],
   "source": [
    "from sklearn.metrics import accuracy_score\n",
    "accuracy = accuracy_score(y_train, clf.predict(x_train))\n",
    "print(\"Accuracy:\", accuracy)"
   ]
  },
  {
   "cell_type": "code",
   "execution_count": null,
   "id": "87a9d67c-8195-4cfc-83f5-826bbd91bcbb",
   "metadata": {},
   "outputs": [],
   "source": [
    "from sklearn.metrics import classification_report\n",
    "classification_report(y_pred,y_train)"
   ]
  },
  {
   "cell_type": "code",
   "execution_count": null,
   "id": "883a24c3-ffe4-477f-9853-a5beec038007",
   "metadata": {},
   "outputs": [],
   "source": [
    "from sklearn.metrics import classification_report\n",
    "classification_report(clf.predict(x_test),y_test)"
   ]
  },
  {
   "cell_type": "markdown",
   "id": "e59f72dc-c148-4e04-b72f-4dbee43714d0",
   "metadata": {},
   "source": [
    "5: Bagging and Boosting Methods"
   ]
  },
  {
   "cell_type": "code",
   "execution_count": null,
   "id": "1a8d32da-7ce6-44dc-9dd1-df587ab8c17c",
   "metadata": {},
   "outputs": [],
   "source": [
    "# Bagging: Random Forest Classifier\n",
    "rf_clf = RandomForestClassifier(n_estimators=100, random_state=42)\n",
    "rf_clf.fit(x_train, y_train)\n",
    "rf_pred = rf_clf.predict(x_test)\n",
    "rf_accuracy = accuracy_score(y_test, rf_pred)\n",
    "print(\"Random Forest Classifier Accuracy:\", rf_accuracy)\n",
    "\n"
   ]
  },
  {
   "cell_type": "code",
   "execution_count": null,
   "id": "f467a3a4-8d97-4f8d-8970-47fc583076eb",
   "metadata": {},
   "outputs": [],
   "source": [
    "# Boosting: AdaBoost Classifier\n",
    "adb_clf = AdaBoostClassifier(n_estimators=100, random_state=42)\n",
    "adb_clf.fit(x_train, y_train)\n",
    "adb_pred = adb_clf.predict(x_test)\n",
    "adb_accuracy = accuracy_score(y_test, adb_pred)\n",
    "print(\"AdaBoost Classifier Accuracy:\", adb_accuracy)"
   ]
  },
  {
   "cell_type": "code",
   "execution_count": null,
   "id": "bd18ebc4-246d-4ce8-8787-800902ee9cf4",
   "metadata": {},
   "outputs": [],
   "source": []
  },
  {
   "cell_type": "markdown",
   "id": "60cd79d9-bdf9-4e43-aa56-5573bac7b3f9",
   "metadata": {},
   "source": [
    "\n",
    "1. Explain Bagging and Boosting methods. How is it different from each other\r\n",
    "\n",
    "Bagging :\n",
    "Bagging involves training multiple instances of a base learning algorithm on different subsets of the training data, typically using random sampling with replacement (bootstrap sampling). Each model is trained independently, and then their predictions are combined through averaging (for regression) or voting (for classification). The idea behind bagging is to reduce variance and prevent overfitting by introducing diversity among the models. A popular example of bagging is the Random Forest algorithm, which uses bagging with decision trees as base learner\n",
    "\n",
    "Boosting:\n",
    "Boosting, on the other hand, involves training multiple weak learners sequentially, with each model trying to correct the mistakes made by its predecessor. Unlike bagging, where each model is trained independently, boosting learns from the mistakes of the previous models and gives more weight to the observations that were incorrectly predicted. Boosting algorithms typically assign different weights to the training instances based on their importance. Examples of boosting algorithms include AdaBoost (Adaptive Boosting), Gradient Boosting Machines (GBM), and XGBoost.s."
   ]
  },
  {
   "cell_type": "markdown",
   "id": "4b7607ed-adca-4a15-a582-abad2c645bfd",
   "metadata": {},
   "source": [
    "2. Explain how to handle imbalance in the data.\n",
    "Resampling:\n",
    "Over-sampling: Increase the number of instances in the minority class by duplicating or generating synthetic samples. Techniques like SMOTE (Synthetic Minority Over-sampling Technique) create synthetic samples by interpolating between existing minority class samples.\n",
    "Under-sampling: Decrease the number of instances in the majority class by randomly removing samples. However, this can lead to loss of information. Care should be taken to preserve the representativeness of the dataset.\n",
    "Algorithmic Approaches:\n",
    "Use algorithms that are robust to class imbalance, such as tree-based algorithms like Random Forest or gradient boosting machines (e.g., XGBoost, LightGBM). These algorithms are less sensitive to class imbalance because they partition the feature space based on class purity.\n",
    "Utilize ensemble techniques like bagging and boosting, which can handle imbalanced data more effectively by combining multiple weak learners.\n",
    "Cost-sensitive Learning:\n",
    "Adjust the misclassification costs associated with different classes. By assigning higher misclassification costs to minority classes, classifiers can learn to prioritize correctly classifying these instances.\n",
    "Some algorithms, like SVM (Support Vector Machines) and decision trees, allow for specifying class weights to penalize misclassification of minority classes.\n",
    "Evaluation Metrics:\n",
    "Choose appropriate evaluation metrics that are sensitive to class imbalance. Accuracy is not suitable for imbalanced datasets since it can be misleading. Instead, use metrics like precision, recall, F1-score, ROC-AUC (Receiver Operating Characteristic - Area Under the Curve), and PR-AUC (Precision-Recall Area Under the Curve).\n",
    "Data Preprocessing:\n",
    "Normalize or standardize the data to ensure that features are on a similar scale. This can help algorithms converge faster and perform better, especially for distance-based algorithms like SVM.\n",
    "Feature engineering can also help in creating informative features that better discriminate between classes.\n",
    "Ensemble Methods:\n",
    "Ensemble methods like bagging and boosting can also be effective in handling imbalanced data. By combining multiple models trained on different subsets of the data, these methods can reduce the impact of class imbalance on model performance.\n",
    "Advanced Techniques:\n",
    "Deep learning techniques like attention mechanisms, class weighting, and focal loss have been developed to address imbalanced data in neural networks specifically.\n",
    "Cost-sensitive learning algorithms, such as cost-sensitive SVM or cost-sensitive decision trees, explicitly consider the misclassification costs associated with different classes."
   ]
  }
 ],
 "metadata": {
  "kernelspec": {
   "display_name": "Python 3 (ipykernel)",
   "language": "python",
   "name": "python3"
  },
  "language_info": {
   "codemirror_mode": {
    "name": "ipython",
    "version": 3
   },
   "file_extension": ".py",
   "mimetype": "text/x-python",
   "name": "python",
   "nbconvert_exporter": "python",
   "pygments_lexer": "ipython3",
   "version": "3.12.3"
  }
 },
 "nbformat": 4,
 "nbformat_minor": 5
}
